{
  "nbformat": 4,
  "nbformat_minor": 0,
  "metadata": {
    "colab": {
      "name": "iowa_liquor_sales_EDA.ipynb",
      "provenance": [],
      "collapsed_sections": []
    },
    "kernelspec": {
      "name": "python3",
      "display_name": "Python 3"
    }
  },
  "cells": [
    {
      "cell_type": "markdown",
      "metadata": {
        "id": "mj8IYKY3om5_"
      },
      "source": [
        "Authentication "
      ]
    },
    {
      "cell_type": "code",
      "metadata": {
        "id": "ucrZIDrG-SiV",
        "outputId": "0fba0500-8a1e-4be5-cfb1-4501ccccd2a6",
        "colab": {
          "base_uri": "https://localhost:8080/",
          "height": 34
        }
      },
      "source": [
        "from google.colab import auth\n",
        "auth.authenticate_user()\n",
        "print('Authenticated')"
      ],
      "execution_count": 1,
      "outputs": [
        {
          "output_type": "stream",
          "text": [
            "Authenticated\n"
          ],
          "name": "stdout"
        }
      ]
    },
    {
      "cell_type": "code",
      "metadata": {
        "id": "CXo5a5N2-hTl"
      },
      "source": [
        "import numpy as np\n",
        "import pandas as pd\n",
        "import matplotlib.pyplot as plt\n",
        "import seaborn as sns\n",
        "%matplotlib inline\n",
        "\n",
        "import plotly.express as px\n",
        "import plotly as py\n",
        "import plotly.graph_objs as go\n",
        "from plotly.offline import init_notebook_mode, iplot"
      ],
      "execution_count": 2,
      "outputs": []
    },
    {
      "cell_type": "markdown",
      "metadata": {
        "id": "TwZr4Y9ioSFZ"
      },
      "source": [
        "Connecting to Google Bigquery public data “iowa_liquor_sales”, extracting data since 2020 and saving it to pandas.DataFrame"
      ]
    },
    {
      "cell_type": "code",
      "metadata": {
        "id": "RmkLzmvzbczv"
      },
      "source": [
        "%%bigquery --project myproject-293510 test_task_data\n",
        "SELECT * FROM `bigquery-public-data.iowa_liquor_sales.sales`  where extract(year from date)=2020 order by date desc"
      ],
      "execution_count": 5,
      "outputs": []
    },
    {
      "cell_type": "markdown",
      "metadata": {
        "id": "PMh8Kkehu2tr"
      },
      "source": [
        "Displaying head of dataframe"
      ]
    },
    {
      "cell_type": "code",
      "metadata": {
        "id": "1IXFFcZJu3Dj",
        "outputId": "ae4e62e0-9ef6-4602-a2bb-2f6659f76955",
        "colab": {
          "base_uri": "https://localhost:8080/",
          "height": 394
        }
      },
      "source": [
        "test_task_data.head()"
      ],
      "execution_count": 8,
      "outputs": [
        {
          "output_type": "execute_result",
          "data": {
            "text/html": [
              "<div>\n",
              "<style scoped>\n",
              "    .dataframe tbody tr th:only-of-type {\n",
              "        vertical-align: middle;\n",
              "    }\n",
              "\n",
              "    .dataframe tbody tr th {\n",
              "        vertical-align: top;\n",
              "    }\n",
              "\n",
              "    .dataframe thead th {\n",
              "        text-align: right;\n",
              "    }\n",
              "</style>\n",
              "<table border=\"1\" class=\"dataframe\">\n",
              "  <thead>\n",
              "    <tr style=\"text-align: right;\">\n",
              "      <th></th>\n",
              "      <th>invoice_and_item_number</th>\n",
              "      <th>date</th>\n",
              "      <th>store_number</th>\n",
              "      <th>store_name</th>\n",
              "      <th>address</th>\n",
              "      <th>city</th>\n",
              "      <th>zip_code</th>\n",
              "      <th>store_location</th>\n",
              "      <th>county_number</th>\n",
              "      <th>county</th>\n",
              "      <th>category</th>\n",
              "      <th>category_name</th>\n",
              "      <th>vendor_number</th>\n",
              "      <th>vendor_name</th>\n",
              "      <th>item_number</th>\n",
              "      <th>item_description</th>\n",
              "      <th>pack</th>\n",
              "      <th>bottle_volume_ml</th>\n",
              "      <th>state_bottle_cost</th>\n",
              "      <th>state_bottle_retail</th>\n",
              "      <th>bottles_sold</th>\n",
              "      <th>sale_dollars</th>\n",
              "      <th>volume_sold_liters</th>\n",
              "      <th>volume_sold_gallons</th>\n",
              "    </tr>\n",
              "  </thead>\n",
              "  <tbody>\n",
              "    <tr>\n",
              "      <th>0</th>\n",
              "      <td>INV-30655500013</td>\n",
              "      <td>2020-09-30</td>\n",
              "      <td>4397</td>\n",
              "      <td>Quik Trip #514 / Ankeny</td>\n",
              "      <td>802 E 1st St</td>\n",
              "      <td>Ankeny</td>\n",
              "      <td>50021</td>\n",
              "      <td>POINT (-93.586368 41.731862)</td>\n",
              "      <td>77</td>\n",
              "      <td>POLK</td>\n",
              "      <td>1011100</td>\n",
              "      <td>Blended Whiskies</td>\n",
              "      <td>065</td>\n",
              "      <td>Jim Beam Brands</td>\n",
              "      <td>27680</td>\n",
              "      <td>Jim Beam Kentucky Fire Mini</td>\n",
              "      <td>12</td>\n",
              "      <td>50</td>\n",
              "      <td>5.40</td>\n",
              "      <td>8.10</td>\n",
              "      <td>1</td>\n",
              "      <td>8.10</td>\n",
              "      <td>0.05</td>\n",
              "      <td>0.01</td>\n",
              "    </tr>\n",
              "    <tr>\n",
              "      <th>1</th>\n",
              "      <td>INV-30661000005</td>\n",
              "      <td>2020-09-30</td>\n",
              "      <td>5971</td>\n",
              "      <td>Pony Creek Liquor / Glenwood</td>\n",
              "      <td>924 S. Locust St</td>\n",
              "      <td>Glenwood</td>\n",
              "      <td>51534</td>\n",
              "      <td>POINT (-95.746084 41.038135)</td>\n",
              "      <td>65</td>\n",
              "      <td>MILLS</td>\n",
              "      <td>1051100</td>\n",
              "      <td>American Brandies</td>\n",
              "      <td>115</td>\n",
              "      <td>CONSTELLATION BRANDS INC</td>\n",
              "      <td>53216</td>\n",
              "      <td>Paul Masson Grande Amber Brandy VS</td>\n",
              "      <td>12</td>\n",
              "      <td>750</td>\n",
              "      <td>6.41</td>\n",
              "      <td>9.62</td>\n",
              "      <td>1</td>\n",
              "      <td>9.62</td>\n",
              "      <td>0.75</td>\n",
              "      <td>0.19</td>\n",
              "    </tr>\n",
              "    <tr>\n",
              "      <th>2</th>\n",
              "      <td>INV-30659500001</td>\n",
              "      <td>2020-09-30</td>\n",
              "      <td>3726</td>\n",
              "      <td>Wal-Mart 1285 / Ottumwa</td>\n",
              "      <td>1940 Venture Dr</td>\n",
              "      <td>Ottumwa</td>\n",
              "      <td>52501</td>\n",
              "      <td>POINT (-92.456896 41.01455)</td>\n",
              "      <td>90</td>\n",
              "      <td>WAPELLO</td>\n",
              "      <td>1081600</td>\n",
              "      <td>Whiskey Liqueur</td>\n",
              "      <td>421</td>\n",
              "      <td>SAZERAC COMPANY  INC</td>\n",
              "      <td>64866</td>\n",
              "      <td>Fireball Cinnamon Whiskey</td>\n",
              "      <td>12</td>\n",
              "      <td>750</td>\n",
              "      <td>9.00</td>\n",
              "      <td>13.50</td>\n",
              "      <td>12</td>\n",
              "      <td>162.00</td>\n",
              "      <td>9.00</td>\n",
              "      <td>2.37</td>\n",
              "    </tr>\n",
              "    <tr>\n",
              "      <th>3</th>\n",
              "      <td>INV-30652600028</td>\n",
              "      <td>2020-09-30</td>\n",
              "      <td>5316</td>\n",
              "      <td>Brother's Market/ Sigourney</td>\n",
              "      <td>118 South Main Street</td>\n",
              "      <td>Sigourney</td>\n",
              "      <td>52591</td>\n",
              "      <td>POINT (-92.205098 41.332944)</td>\n",
              "      <td>54</td>\n",
              "      <td>KEOKUK</td>\n",
              "      <td>1011100</td>\n",
              "      <td>Blended Whiskies</td>\n",
              "      <td>492</td>\n",
              "      <td>WESTERN SPIRITS BEVERAGE</td>\n",
              "      <td>27433</td>\n",
              "      <td>Bird Dog Peach</td>\n",
              "      <td>6</td>\n",
              "      <td>750</td>\n",
              "      <td>10.00</td>\n",
              "      <td>15.00</td>\n",
              "      <td>1</td>\n",
              "      <td>15.00</td>\n",
              "      <td>0.75</td>\n",
              "      <td>0.19</td>\n",
              "    </tr>\n",
              "    <tr>\n",
              "      <th>4</th>\n",
              "      <td>INV-30650100014</td>\n",
              "      <td>2020-09-30</td>\n",
              "      <td>4501</td>\n",
              "      <td>Kum &amp; Go #134 / Fairfield</td>\n",
              "      <td>1601 W Burlington Ave</td>\n",
              "      <td>Fairfield</td>\n",
              "      <td>52556</td>\n",
              "      <td>POINT (-91.981752 41.006447)</td>\n",
              "      <td>51</td>\n",
              "      <td>JEFFERSON</td>\n",
              "      <td>1041100</td>\n",
              "      <td>American Dry Gins</td>\n",
              "      <td>370</td>\n",
              "      <td>PERNOD RICARD USA</td>\n",
              "      <td>32231</td>\n",
              "      <td>Seagrams Extra Dry Gin Mini</td>\n",
              "      <td>12</td>\n",
              "      <td>50</td>\n",
              "      <td>3.30</td>\n",
              "      <td>4.95</td>\n",
              "      <td>2</td>\n",
              "      <td>9.90</td>\n",
              "      <td>0.10</td>\n",
              "      <td>0.02</td>\n",
              "    </tr>\n",
              "  </tbody>\n",
              "</table>\n",
              "</div>"
            ],
            "text/plain": [
              "  invoice_and_item_number        date  ... volume_sold_liters volume_sold_gallons\n",
              "0         INV-30655500013  2020-09-30  ...               0.05                0.01\n",
              "1         INV-30661000005  2020-09-30  ...               0.75                0.19\n",
              "2         INV-30659500001  2020-09-30  ...               9.00                2.37\n",
              "3         INV-30652600028  2020-09-30  ...               0.75                0.19\n",
              "4         INV-30650100014  2020-09-30  ...               0.10                0.02\n",
              "\n",
              "[5 rows x 24 columns]"
            ]
          },
          "metadata": {
            "tags": []
          },
          "execution_count": 8
        }
      ]
    },
    {
      "cell_type": "code",
      "metadata": {
        "id": "jhh_AML8ise9",
        "outputId": "76290494-c9c4-4f2b-f28b-87c9515a4277",
        "colab": {
          "base_uri": "https://localhost:8080/",
          "height": 136
        }
      },
      "source": [
        "test_task_data.columns"
      ],
      "execution_count": 6,
      "outputs": [
        {
          "output_type": "execute_result",
          "data": {
            "text/plain": [
              "Index(['invoice_and_item_number', 'date', 'store_number', 'store_name',\n",
              "       'address', 'city', 'zip_code', 'store_location', 'county_number',\n",
              "       'county', 'category', 'category_name', 'vendor_number', 'vendor_name',\n",
              "       'item_number', 'item_description', 'pack', 'bottle_volume_ml',\n",
              "       'state_bottle_cost', 'state_bottle_retail', 'bottles_sold',\n",
              "       'sale_dollars', 'volume_sold_liters', 'volume_sold_gallons'],\n",
              "      dtype='object')"
            ]
          },
          "metadata": {
            "tags": []
          },
          "execution_count": 6
        }
      ]
    },
    {
      "cell_type": "code",
      "metadata": {
        "id": "auuGUUS1vCHU",
        "outputId": "e8bd199d-509b-4a38-cc82-239265eb65e0",
        "colab": {
          "base_uri": "https://localhost:8080/",
          "height": 442
        }
      },
      "source": [
        "test_task_data.dtypes"
      ],
      "execution_count": 9,
      "outputs": [
        {
          "output_type": "execute_result",
          "data": {
            "text/plain": [
              "invoice_and_item_number     object\n",
              "date                        object\n",
              "store_number                object\n",
              "store_name                  object\n",
              "address                     object\n",
              "city                        object\n",
              "zip_code                    object\n",
              "store_location              object\n",
              "county_number               object\n",
              "county                      object\n",
              "category                    object\n",
              "category_name               object\n",
              "vendor_number               object\n",
              "vendor_name                 object\n",
              "item_number                 object\n",
              "item_description            object\n",
              "pack                         int64\n",
              "bottle_volume_ml             int64\n",
              "state_bottle_cost          float64\n",
              "state_bottle_retail        float64\n",
              "bottles_sold                 int64\n",
              "sale_dollars               float64\n",
              "volume_sold_liters         float64\n",
              "volume_sold_gallons        float64\n",
              "dtype: object"
            ]
          },
          "metadata": {
            "tags": []
          },
          "execution_count": 9
        }
      ]
    },
    {
      "cell_type": "markdown",
      "metadata": {
        "id": "vRU7k8UFvOkJ"
      },
      "source": [
        "Number and list of unique cities in data"
      ]
    },
    {
      "cell_type": "code",
      "metadata": {
        "id": "DrfBwUtXvO0n",
        "outputId": "fa96d9f9-509c-444a-b6ad-235ebd44face",
        "colab": {
          "base_uri": "https://localhost:8080/",
          "height": 1000
        }
      },
      "source": [
        "print(test_task_data['city'].nunique())\n",
        "test_task_data['city'].unique()"
      ],
      "execution_count": 10,
      "outputs": [
        {
          "output_type": "stream",
          "text": [
            "431\n"
          ],
          "name": "stdout"
        },
        {
          "output_type": "execute_result",
          "data": {
            "text/plain": [
              "array(['Ankeny', 'Glenwood', 'Ottumwa', 'Sigourney', 'Fairfield',\n",
              "       'Council Bluffs', 'Spirit Lake', 'Ames', 'Washington', 'Keokuk',\n",
              "       'Des Moines', 'Cedar Rapids', 'Keosauqua', 'Spencer', 'Davenport',\n",
              "       'Paullina', 'Forest City', 'Pella', 'Algona', 'Britt',\n",
              "       'Emmetsburg', 'Hartley', 'West Des Moines', 'Iowa City',\n",
              "       'Oskaloosa', 'Waterloo', 'Milford', 'Fort Madison', 'Arnolds Park',\n",
              "       'Estherville', 'Windsor Heights', 'Marcus', 'Belmond', 'Okoboji',\n",
              "       'Winfield', 'Pacific Junction', 'Correctionville', 'Bloomfield',\n",
              "       'Bancroft', 'Eddyville', 'West Point', 'Lake Mills', 'Cedar Falls',\n",
              "       'Sanborn', 'Marshalltown', 'Farmington', 'Kingsley', 'Hiawatha',\n",
              "       'Wilton', 'West Liberty', 'Colfax', 'Alta', 'Garner', 'Clarion',\n",
              "       'Swea City', 'West Bend', 'Durant', 'Primghar', 'Griswold',\n",
              "       'Wesley', 'Bettendorf', 'Corwith', 'Coralville', 'Urbandale',\n",
              "       'Eagle Grove', 'Lake Park', 'Ruthven', 'Osceola', 'Buffalo Center',\n",
              "       'Remsen', 'Kanawha', 'Robins', 'Monroe', 'Earlham',\n",
              "       'Mitchellville', 'Muscatine', 'Missouri Valley', 'Sioux City',\n",
              "       'West Union', 'Hudson', 'Waukee', 'Harlan', 'Le Mars', 'Newton',\n",
              "       'Sioux Center', 'Evansdale', 'Tipton', 'Cresco', 'Denison', 'Doon',\n",
              "       'Ellsworth', 'Mapleton', 'Ida Grove', 'Rock Valley', 'Grinnell',\n",
              "       'Onawa', 'Sheldon', 'Waverly', 'Lawler', 'Nevada', 'Larchwood',\n",
              "       'Dumont', 'Toledo', 'Oelwein', 'Story City', 'Independence',\n",
              "       'Sergeant Bluff', 'North Liberty', 'Baxter', 'Sibley',\n",
              "       'Iowa Falls', 'Roland', 'Manchester', 'Northwood', 'Raymond',\n",
              "       'Arlington', 'Inwood', 'Woodbine', 'Audubon', 'Fort Atkinson',\n",
              "       'Traer', 'George', 'Le Grand', 'Coon Rapids', 'Orange City',\n",
              "       'St Lucas', 'Manning', 'Altoona', 'Charles City', 'New Hampton',\n",
              "       'Fayette', 'Ackley', 'Walcott', 'Rock Rapids', 'Fairbank',\n",
              "       'Kellogg', 'Johnston', 'Hawarden', 'Sheffield', 'Dunlap',\n",
              "       'Wellsburg', 'Jesup', 'Nora Springs', 'Gladbrook', 'Denver',\n",
              "       'Logan', 'Delaware', 'La Porte City', 'Hazleton', 'Sumner',\n",
              "       'Jewell', 'Elma', 'Stratford', 'Sloan', 'Strawberry Point',\n",
              "       'Humboldt', 'Edgewood', 'Anthon', 'State Center', 'Prairie City',\n",
              "       'Cumming', 'Allerton', 'Mount Vernon', 'Dubuque', 'Maquoketa',\n",
              "       'Amana', 'Nichols', 'Blue Grass', 'Osage', 'Dyersville',\n",
              "       'Sac City', 'Cherokee', 'Marengo', 'Carroll', 'Lake View',\n",
              "       'Scranton', 'Grand Junction', 'Storm Lake', 'Clinton', 'Eldora',\n",
              "       'Eldridge', 'Holstein', 'Gowrie', 'DeWitt', 'Hampton', 'Jefferson',\n",
              "       'St Ansgar', 'Belle Plaine', 'Bellevue', 'Lake City',\n",
              "       'Clarksville', 'Grundy Center', 'Peosta', 'Williamsburg',\n",
              "       'Rockwell', 'Fairfax', 'Le Claire', 'Swisher', 'Floyd',\n",
              "       'Parkersburg', 'Brooklyn', 'Vinton', 'Rockwell City', 'Camanche',\n",
              "       'Odebolt', 'Alden', 'Sutherland', 'Walker', 'Wall Lake',\n",
              "       'Shueyville', 'Norway', 'MUSCATINE', 'Clive', 'Lisbon',\n",
              "       'West Branch', 'Lohrville', 'Grand Mounds', 'Riceville', 'Solon',\n",
              "       'New Hartford', 'Pleasant Hill', 'Walford', 'Aplington',\n",
              "       'Clarence', 'Burlington', 'Delmar', 'Walnut', 'Atlantic',\n",
              "       'Fort Dodge', 'Indianola', 'Norwalk', 'Shenandoah', 'Elkader',\n",
              "       'Dakota City', 'Decorah', 'Winterset', 'Adel', 'Waukon',\n",
              "       'Martensdale', 'Carlisle', 'Mount Pleasant', 'Grimes',\n",
              "       'Centerville', 'Kalona', 'Clarinda', 'Panora', 'Polk City',\n",
              "       'Webster City', 'Chariton', 'Knoxville', 'Boone', 'Cascade',\n",
              "       'Perry', 'Marion', 'Anamosa', 'Van Meter', 'Guttenberg', 'Atkins',\n",
              "       'Shellsburg', 'Riverside', 'Stuart', 'Woodward', 'Carter Lake',\n",
              "       'Laurens', 'Runnells', 'Mason City', 'Harpers Ferry', 'Creston',\n",
              "       'Slater', 'Columbus Junction', 'Greenfield', 'Red Oak', 'Wellman',\n",
              "       'Monona', 'Clermont', 'Humeston', 'Monticello', 'Minden',\n",
              "       'Montezuma', 'Central City', 'Marquette', 'Holy Cross',\n",
              "       'Springville', 'Madrid', 'Leon', 'Palo', 'Sioux Rapids', 'Lamoni',\n",
              "       'Wapello', 'Lansing', 'Manson', 'North English', 'Corning',\n",
              "       'Avoca', 'West Burlington', 'Livermore', 'Mediapolis', 'Corydon',\n",
              "       'De Soto', 'Bevington', 'Melcher-Dallas', 'Mt Pleasant', 'Bedford',\n",
              "       'Albia', 'Oakland', 'Guthrie Center', 'Mount Ayr', 'Adair',\n",
              "       'Pleasantville', 'Center Point', 'Afton', 'Neola', 'Moravia',\n",
              "       'Pocahontas', 'Malvern', 'Anita', 'Clear Lake', 'Bondurant',\n",
              "       'Tiffin', 'ClearLake', 'Huxley', 'Conrad', 'Armstrong', 'Treynor',\n",
              "       'Graettinger', 'Whittemore', 'Montrose', 'Reinbeck', 'Garwin',\n",
              "       'Akron', 'Merrill', 'Exira', 'Alton', 'Hull', 'Winthrop', 'Dysart',\n",
              "       'Melbourne', 'Albion', 'Allison', 'Nashua', 'Maxwell', 'Glidden',\n",
              "       'Buffalo', 'Victor', 'Colo', 'Fonda', 'Hubbard', 'Stanwood',\n",
              "       'Aurelia', 'Oxford', 'Blairstown', 'Saint Ansgar', 'Seymour',\n",
              "       'Crescent', 'Shelby', 'Postville', 'Truro', 'Granger',\n",
              "       'Fontanelle', 'Dayton', 'SAGEVILLE', 'Essex', 'New Virginia',\n",
              "       'Otho', 'Dallas Center', 'Martelle', 'Ogden', 'LoneTree',\n",
              "       'Van Horne', 'Villisca', 'Baldwin', 'Dows', 'Keota', 'What Cheer',\n",
              "       'Fremont', 'Goldfield', 'Tama', 'Calmar', 'Rockford', 'Templeton',\n",
              "       'Washburn', 'Tripoli', 'Lamont', 'Gilbertville', 'Greene',\n",
              "       'Farley', 'Urbana', 'Princeton', 'Zwingle', 'Ely',\n",
              "       'Fredericksburg', 'Lenox', 'Hills', 'Pleasant Valley', 'Coggon',\n",
              "       'Alburnett', 'Earling', 'Leclaire', 'Hinton', 'Mechanicsville',\n",
              "       'Redfield', 'Morning Sun', 'Rolfe', 'Stanton', 'Eldon',\n",
              "       'Donnellson', 'Maynard', 'Lime Springs', 'Wheatland', 'Hamburg',\n",
              "       'St Charles', 'Ossian', 'Dexter', 'Wyoming', 'Danville',\n",
              "       'New Sharon', 'Delhi', 'Early', 'Gilmore City', 'New London',\n",
              "       'Lost Nation', 'Latimer', 'Rudd', 'Manly', 'Lovilia', 'Sully',\n",
              "       'Pomeroy', 'Albert City', 'Middletown', 'Tabor', \"Arnold's Park\",\n",
              "       None], dtype=object)"
            ]
          },
          "metadata": {
            "tags": []
          },
          "execution_count": 10
        }
      ]
    },
    {
      "cell_type": "markdown",
      "metadata": {
        "id": "VS3XyzhgvcMI"
      },
      "source": [
        "There are 431 cities in explored data\n"
      ]
    },
    {
      "cell_type": "code",
      "metadata": {
        "id": "NrPQlQh4vcp1",
        "outputId": "91eeeb93-59be-4ca6-aa8d-b45cab079602",
        "colab": {
          "base_uri": "https://localhost:8080/",
          "height": 221
        }
      },
      "source": [
        "test_task_data['city'].value_counts()"
      ],
      "execution_count": 11,
      "outputs": [
        {
          "output_type": "execute_result",
          "data": {
            "text/plain": [
              "Des Moines         154389\n",
              "Cedar Rapids       125613\n",
              "Davenport           82147\n",
              "Waterloo            60526\n",
              "West Des Moines     60497\n",
              "                    ...  \n",
              "Rudd                   66\n",
              "Albert City            62\n",
              "Aurelia                55\n",
              "Earling                42\n",
              "Melbourne              36\n",
              "Name: city, Length: 431, dtype: int64"
            ]
          },
          "metadata": {
            "tags": []
          },
          "execution_count": 11
        }
      ]
    },
    {
      "cell_type": "markdown",
      "metadata": {
        "id": "yV-ox9Piv0XB"
      },
      "source": [
        "The highest number of shops are located in Des Moines"
      ]
    },
    {
      "cell_type": "markdown",
      "metadata": {
        "id": "bmzksUhOwFSS"
      },
      "source": [
        "Dealing with NaN`s and duplicates"
      ]
    },
    {
      "cell_type": "code",
      "metadata": {
        "id": "t1jlnfL1wEQp",
        "outputId": "2fa01a04-57bb-41fb-f020-98d173a25863",
        "colab": {
          "base_uri": "https://localhost:8080/",
          "height": 796
        }
      },
      "source": [
        "test_task_data.dropna(inplace=True)\n",
        "test_task_data.drop_duplicates()"
      ],
      "execution_count": 12,
      "outputs": [
        {
          "output_type": "execute_result",
          "data": {
            "text/html": [
              "<div>\n",
              "<style scoped>\n",
              "    .dataframe tbody tr th:only-of-type {\n",
              "        vertical-align: middle;\n",
              "    }\n",
              "\n",
              "    .dataframe tbody tr th {\n",
              "        vertical-align: top;\n",
              "    }\n",
              "\n",
              "    .dataframe thead th {\n",
              "        text-align: right;\n",
              "    }\n",
              "</style>\n",
              "<table border=\"1\" class=\"dataframe\">\n",
              "  <thead>\n",
              "    <tr style=\"text-align: right;\">\n",
              "      <th></th>\n",
              "      <th>invoice_and_item_number</th>\n",
              "      <th>date</th>\n",
              "      <th>store_number</th>\n",
              "      <th>store_name</th>\n",
              "      <th>address</th>\n",
              "      <th>city</th>\n",
              "      <th>zip_code</th>\n",
              "      <th>store_location</th>\n",
              "      <th>county_number</th>\n",
              "      <th>county</th>\n",
              "      <th>category</th>\n",
              "      <th>category_name</th>\n",
              "      <th>vendor_number</th>\n",
              "      <th>vendor_name</th>\n",
              "      <th>item_number</th>\n",
              "      <th>item_description</th>\n",
              "      <th>pack</th>\n",
              "      <th>bottle_volume_ml</th>\n",
              "      <th>state_bottle_cost</th>\n",
              "      <th>state_bottle_retail</th>\n",
              "      <th>bottles_sold</th>\n",
              "      <th>sale_dollars</th>\n",
              "      <th>volume_sold_liters</th>\n",
              "      <th>volume_sold_gallons</th>\n",
              "    </tr>\n",
              "  </thead>\n",
              "  <tbody>\n",
              "    <tr>\n",
              "      <th>0</th>\n",
              "      <td>INV-30655500013</td>\n",
              "      <td>2020-09-30</td>\n",
              "      <td>4397</td>\n",
              "      <td>Quik Trip #514 / Ankeny</td>\n",
              "      <td>802 E 1st St</td>\n",
              "      <td>Ankeny</td>\n",
              "      <td>50021</td>\n",
              "      <td>POINT (-93.586368 41.731862)</td>\n",
              "      <td>77</td>\n",
              "      <td>POLK</td>\n",
              "      <td>1011100</td>\n",
              "      <td>Blended Whiskies</td>\n",
              "      <td>065</td>\n",
              "      <td>Jim Beam Brands</td>\n",
              "      <td>27680</td>\n",
              "      <td>Jim Beam Kentucky Fire Mini</td>\n",
              "      <td>12</td>\n",
              "      <td>50</td>\n",
              "      <td>5.40</td>\n",
              "      <td>8.10</td>\n",
              "      <td>1</td>\n",
              "      <td>8.10</td>\n",
              "      <td>0.05</td>\n",
              "      <td>0.01</td>\n",
              "    </tr>\n",
              "    <tr>\n",
              "      <th>1</th>\n",
              "      <td>INV-30661000005</td>\n",
              "      <td>2020-09-30</td>\n",
              "      <td>5971</td>\n",
              "      <td>Pony Creek Liquor / Glenwood</td>\n",
              "      <td>924 S. Locust St</td>\n",
              "      <td>Glenwood</td>\n",
              "      <td>51534</td>\n",
              "      <td>POINT (-95.746084 41.038135)</td>\n",
              "      <td>65</td>\n",
              "      <td>MILLS</td>\n",
              "      <td>1051100</td>\n",
              "      <td>American Brandies</td>\n",
              "      <td>115</td>\n",
              "      <td>CONSTELLATION BRANDS INC</td>\n",
              "      <td>53216</td>\n",
              "      <td>Paul Masson Grande Amber Brandy VS</td>\n",
              "      <td>12</td>\n",
              "      <td>750</td>\n",
              "      <td>6.41</td>\n",
              "      <td>9.62</td>\n",
              "      <td>1</td>\n",
              "      <td>9.62</td>\n",
              "      <td>0.75</td>\n",
              "      <td>0.19</td>\n",
              "    </tr>\n",
              "    <tr>\n",
              "      <th>2</th>\n",
              "      <td>INV-30659500001</td>\n",
              "      <td>2020-09-30</td>\n",
              "      <td>3726</td>\n",
              "      <td>Wal-Mart 1285 / Ottumwa</td>\n",
              "      <td>1940 Venture Dr</td>\n",
              "      <td>Ottumwa</td>\n",
              "      <td>52501</td>\n",
              "      <td>POINT (-92.456896 41.01455)</td>\n",
              "      <td>90</td>\n",
              "      <td>WAPELLO</td>\n",
              "      <td>1081600</td>\n",
              "      <td>Whiskey Liqueur</td>\n",
              "      <td>421</td>\n",
              "      <td>SAZERAC COMPANY  INC</td>\n",
              "      <td>64866</td>\n",
              "      <td>Fireball Cinnamon Whiskey</td>\n",
              "      <td>12</td>\n",
              "      <td>750</td>\n",
              "      <td>9.00</td>\n",
              "      <td>13.50</td>\n",
              "      <td>12</td>\n",
              "      <td>162.00</td>\n",
              "      <td>9.00</td>\n",
              "      <td>2.37</td>\n",
              "    </tr>\n",
              "    <tr>\n",
              "      <th>3</th>\n",
              "      <td>INV-30652600028</td>\n",
              "      <td>2020-09-30</td>\n",
              "      <td>5316</td>\n",
              "      <td>Brother's Market/ Sigourney</td>\n",
              "      <td>118 South Main Street</td>\n",
              "      <td>Sigourney</td>\n",
              "      <td>52591</td>\n",
              "      <td>POINT (-92.205098 41.332944)</td>\n",
              "      <td>54</td>\n",
              "      <td>KEOKUK</td>\n",
              "      <td>1011100</td>\n",
              "      <td>Blended Whiskies</td>\n",
              "      <td>492</td>\n",
              "      <td>WESTERN SPIRITS BEVERAGE</td>\n",
              "      <td>27433</td>\n",
              "      <td>Bird Dog Peach</td>\n",
              "      <td>6</td>\n",
              "      <td>750</td>\n",
              "      <td>10.00</td>\n",
              "      <td>15.00</td>\n",
              "      <td>1</td>\n",
              "      <td>15.00</td>\n",
              "      <td>0.75</td>\n",
              "      <td>0.19</td>\n",
              "    </tr>\n",
              "    <tr>\n",
              "      <th>4</th>\n",
              "      <td>INV-30650100014</td>\n",
              "      <td>2020-09-30</td>\n",
              "      <td>4501</td>\n",
              "      <td>Kum &amp; Go #134 / Fairfield</td>\n",
              "      <td>1601 W Burlington Ave</td>\n",
              "      <td>Fairfield</td>\n",
              "      <td>52556</td>\n",
              "      <td>POINT (-91.981752 41.006447)</td>\n",
              "      <td>51</td>\n",
              "      <td>JEFFERSON</td>\n",
              "      <td>1041100</td>\n",
              "      <td>American Dry Gins</td>\n",
              "      <td>370</td>\n",
              "      <td>PERNOD RICARD USA</td>\n",
              "      <td>32231</td>\n",
              "      <td>Seagrams Extra Dry Gin Mini</td>\n",
              "      <td>12</td>\n",
              "      <td>50</td>\n",
              "      <td>3.30</td>\n",
              "      <td>4.95</td>\n",
              "      <td>2</td>\n",
              "      <td>9.90</td>\n",
              "      <td>0.10</td>\n",
              "      <td>0.02</td>\n",
              "    </tr>\n",
              "    <tr>\n",
              "      <th>...</th>\n",
              "      <td>...</td>\n",
              "      <td>...</td>\n",
              "      <td>...</td>\n",
              "      <td>...</td>\n",
              "      <td>...</td>\n",
              "      <td>...</td>\n",
              "      <td>...</td>\n",
              "      <td>...</td>\n",
              "      <td>...</td>\n",
              "      <td>...</td>\n",
              "      <td>...</td>\n",
              "      <td>...</td>\n",
              "      <td>...</td>\n",
              "      <td>...</td>\n",
              "      <td>...</td>\n",
              "      <td>...</td>\n",
              "      <td>...</td>\n",
              "      <td>...</td>\n",
              "      <td>...</td>\n",
              "      <td>...</td>\n",
              "      <td>...</td>\n",
              "      <td>...</td>\n",
              "      <td>...</td>\n",
              "      <td>...</td>\n",
              "    </tr>\n",
              "    <tr>\n",
              "      <th>1931584</th>\n",
              "      <td>INV-24313700016</td>\n",
              "      <td>2020-01-02</td>\n",
              "      <td>4675</td>\n",
              "      <td>Kum &amp; Go #113 / Ames</td>\n",
              "      <td>2801 E 13th St</td>\n",
              "      <td>Ames</td>\n",
              "      <td>50010</td>\n",
              "      <td>POINT (-93.575702 42.034562)</td>\n",
              "      <td>85</td>\n",
              "      <td>STORY</td>\n",
              "      <td>1022100</td>\n",
              "      <td>Mixto Tequila</td>\n",
              "      <td>395</td>\n",
              "      <td>PROXIMO</td>\n",
              "      <td>89196</td>\n",
              "      <td>Jose Cuervo Especial Reposado</td>\n",
              "      <td>12</td>\n",
              "      <td>750</td>\n",
              "      <td>11.07</td>\n",
              "      <td>16.61</td>\n",
              "      <td>3</td>\n",
              "      <td>49.83</td>\n",
              "      <td>2.25</td>\n",
              "      <td>0.59</td>\n",
              "    </tr>\n",
              "    <tr>\n",
              "      <th>1931585</th>\n",
              "      <td>INV-24291000023</td>\n",
              "      <td>2020-01-02</td>\n",
              "      <td>2650</td>\n",
              "      <td>Hy-Vee Wine and Spirits / Harlan</td>\n",
              "      <td>1808 23rd St</td>\n",
              "      <td>Harlan</td>\n",
              "      <td>51537</td>\n",
              "      <td>POINT (-95.339881 41.650658)</td>\n",
              "      <td>83</td>\n",
              "      <td>SHELBY</td>\n",
              "      <td>1081200</td>\n",
              "      <td>Cream Liqueurs</td>\n",
              "      <td>260</td>\n",
              "      <td>DIAGEO AMERICAS</td>\n",
              "      <td>68037</td>\n",
              "      <td>Baileys Original Irish Cream</td>\n",
              "      <td>12</td>\n",
              "      <td>1000</td>\n",
              "      <td>20.99</td>\n",
              "      <td>31.49</td>\n",
              "      <td>12</td>\n",
              "      <td>307.68</td>\n",
              "      <td>12.00</td>\n",
              "      <td>3.17</td>\n",
              "    </tr>\n",
              "    <tr>\n",
              "      <th>1931586</th>\n",
              "      <td>INV-24313800006</td>\n",
              "      <td>2020-01-02</td>\n",
              "      <td>4105</td>\n",
              "      <td>Fareway Stores #426 / Nevada</td>\n",
              "      <td>1505 South B Ave</td>\n",
              "      <td>Nevada</td>\n",
              "      <td>50201</td>\n",
              "      <td>POINT (-93.439899 42.009797)</td>\n",
              "      <td>85</td>\n",
              "      <td>STORY</td>\n",
              "      <td>1012400</td>\n",
              "      <td>Irish Whiskies</td>\n",
              "      <td>370</td>\n",
              "      <td>PERNOD RICARD USA</td>\n",
              "      <td>15626</td>\n",
              "      <td>Jameson</td>\n",
              "      <td>12</td>\n",
              "      <td>750</td>\n",
              "      <td>16.49</td>\n",
              "      <td>24.74</td>\n",
              "      <td>12</td>\n",
              "      <td>296.88</td>\n",
              "      <td>9.00</td>\n",
              "      <td>2.37</td>\n",
              "    </tr>\n",
              "    <tr>\n",
              "      <th>1931587</th>\n",
              "      <td>INV-24307700025</td>\n",
              "      <td>2020-01-02</td>\n",
              "      <td>2642</td>\n",
              "      <td>Hy-Vee Wine and Spirits / Pella</td>\n",
              "      <td>512 E Oskaloosa</td>\n",
              "      <td>Pella</td>\n",
              "      <td>50219</td>\n",
              "      <td>POINT (-92.899277 41.396961000000005)</td>\n",
              "      <td>63</td>\n",
              "      <td>MARION</td>\n",
              "      <td>1062500</td>\n",
              "      <td>Flavored Rum</td>\n",
              "      <td>370</td>\n",
              "      <td>PERNOD RICARD USA</td>\n",
              "      <td>42717</td>\n",
              "      <td>Malibu Coconut Rum</td>\n",
              "      <td>12</td>\n",
              "      <td>1000</td>\n",
              "      <td>10.99</td>\n",
              "      <td>16.49</td>\n",
              "      <td>12</td>\n",
              "      <td>197.88</td>\n",
              "      <td>12.00</td>\n",
              "      <td>3.17</td>\n",
              "    </tr>\n",
              "    <tr>\n",
              "      <th>1931588</th>\n",
              "      <td>INV-24303100045</td>\n",
              "      <td>2020-01-02</td>\n",
              "      <td>4312</td>\n",
              "      <td>I-80 Liquor / Council Bluffs</td>\n",
              "      <td>2411 S 24TH ST #1</td>\n",
              "      <td>Council Bluffs</td>\n",
              "      <td>51501</td>\n",
              "      <td>POINT (-95.8792 41.238092)</td>\n",
              "      <td>78</td>\n",
              "      <td>POTTAWATTA</td>\n",
              "      <td>1022100</td>\n",
              "      <td>Mixto Tequila</td>\n",
              "      <td>434</td>\n",
              "      <td>LUXCO INC</td>\n",
              "      <td>87937</td>\n",
              "      <td>Juarez Silver</td>\n",
              "      <td>12</td>\n",
              "      <td>1000</td>\n",
              "      <td>7.83</td>\n",
              "      <td>11.75</td>\n",
              "      <td>24</td>\n",
              "      <td>282.00</td>\n",
              "      <td>24.00</td>\n",
              "      <td>6.34</td>\n",
              "    </tr>\n",
              "  </tbody>\n",
              "</table>\n",
              "<p>1760082 rows × 24 columns</p>\n",
              "</div>"
            ],
            "text/plain": [
              "        invoice_and_item_number  ... volume_sold_gallons\n",
              "0               INV-30655500013  ...                0.01\n",
              "1               INV-30661000005  ...                0.19\n",
              "2               INV-30659500001  ...                2.37\n",
              "3               INV-30652600028  ...                0.19\n",
              "4               INV-30650100014  ...                0.02\n",
              "...                         ...  ...                 ...\n",
              "1931584         INV-24313700016  ...                0.59\n",
              "1931585         INV-24291000023  ...                3.17\n",
              "1931586         INV-24313800006  ...                2.37\n",
              "1931587         INV-24307700025  ...                3.17\n",
              "1931588         INV-24303100045  ...                6.34\n",
              "\n",
              "[1760082 rows x 24 columns]"
            ]
          },
          "metadata": {
            "tags": []
          },
          "execution_count": 12
        }
      ]
    },
    {
      "cell_type": "markdown",
      "metadata": {
        "id": "IgeTwP7Twgso"
      },
      "source": [
        "Displaying of minimum and maximum dates in data"
      ]
    },
    {
      "cell_type": "code",
      "metadata": {
        "id": "oOUwHlt6wnjk",
        "outputId": "e323bda3-7612-4994-bddb-376a9c63e7e7",
        "colab": {
          "base_uri": "https://localhost:8080/",
          "height": 51
        }
      },
      "source": [
        "print(test_task_data['date'].min())\n",
        "print(test_task_data['date'].max())"
      ],
      "execution_count": 13,
      "outputs": [
        {
          "output_type": "stream",
          "text": [
            "2020-01-02\n",
            "2020-09-30\n"
          ],
          "name": "stdout"
        }
      ]
    },
    {
      "cell_type": "markdown",
      "metadata": {
        "id": "IaSXPnxQw1cO"
      },
      "source": [
        "Displaying number and list of unique liquors in explored data"
      ]
    },
    {
      "cell_type": "code",
      "metadata": {
        "id": "iTPemu5ajZSs",
        "outputId": "508460b9-a8e9-4500-8001-8bb0aae199d9",
        "colab": {
          "base_uri": "https://localhost:8080/",
          "height": 459
        }
      },
      "source": [
        "print(test_task_data['category_name'].nunique())\n",
        "test_task_data['category_name'].unique()"
      ],
      "execution_count": 14,
      "outputs": [
        {
          "output_type": "stream",
          "text": [
            "57\n"
          ],
          "name": "stdout"
        },
        {
          "output_type": "execute_result",
          "data": {
            "text/plain": [
              "array(['Blended Whiskies', 'American Brandies', 'Whiskey Liqueur',\n",
              "       'American Dry Gins', 'Canadian Whiskies',\n",
              "       'Straight Bourbon Whiskies', 'American Vodkas',\n",
              "       'Tennessee Whiskies', 'Imported Cordials & Liqueurs',\n",
              "       'Temporary & Specialty Packages', 'American Schnapps',\n",
              "       'Imported Schnapps', 'American Cordials & Liqueur', 'White Rum',\n",
              "       'Spiced Rum', 'Flavored Rum', 'Mixto Tequila',\n",
              "       '100% Agave Tequila', 'Imported Flavored Vodka', 'Irish Whiskies',\n",
              "       'Imported Vodkas', 'Scotch Whiskies', 'Cream Liqueurs',\n",
              "       'Neutral Grain Spirits Flavored',\n",
              "       'Temporary &  Specialty Packages', 'American Flavored Vodka',\n",
              "       'Imported Brandies', 'Single Barrel Bourbon Whiskies',\n",
              "       'Single Malt Scotch', 'Cocktails /RTD', 'Imported Dry Gins',\n",
              "       'Imported Cordials & Liqueur', 'Coffee Liqueurs',\n",
              "       'American Distilled Spirit Specialty', 'Bottled in Bond Bourbon',\n",
              "       'Special Order Items', 'Aged Dark Rum', 'Triple Sec', 'Mezcal',\n",
              "       'Neutral Grain Spirits', 'Straight Rye Whiskies', 'Gold Rum',\n",
              "       'Corn Whiskies', 'American Cordials & Liqueurs',\n",
              "       'Imported Distilled Spirit Specialty', 'Flavored Gin',\n",
              "       'Imported Distilled Spirits Specialty', 'American Sloe Gins',\n",
              "       'Temporary  & Specialty Packages', 'American Vodka',\n",
              "       'American Distilled Spirits Specialty', 'Cocktails / RTD',\n",
              "       'Imported Vodka', 'Distilled Spirits Specialty',\n",
              "       'Delisted / Special Order Items', 'Imported Gins',\n",
              "       'Iowa Distillery Whiskies'], dtype=object)"
            ]
          },
          "metadata": {
            "tags": []
          },
          "execution_count": 14
        }
      ]
    },
    {
      "cell_type": "markdown",
      "metadata": {
        "id": "dfFrQTSKxEAn"
      },
      "source": [
        "There are 57 unique liqors types in explored data"
      ]
    },
    {
      "cell_type": "markdown",
      "metadata": {
        "id": "h9u8mPh1xZSI"
      },
      "source": [
        "## Exploring the metrics which are important for business"
      ]
    },
    {
      "cell_type": "markdown",
      "metadata": {
        "id": "OqLuJnxww_LQ"
      },
      "source": [
        "**Top 10 categories of liquors that has highest sale**"
      ]
    },
    {
      "cell_type": "code",
      "metadata": {
        "id": "Zq-qMifal8yg"
      },
      "source": [
        "df_plot = test_task_data.groupby(['category_name','pack','date'])['sale_dollars'].sum().groupby(\n",
        "            ['category_name','pack']).max().sort_values().groupby(\n",
        "            ['category_name']).sum().sort_values(ascending=False)\n",
        "top_count = pd.DataFrame(df_plot)\n",
        "top_count1 = pd.DataFrame(df_plot.head(10))"
      ],
      "execution_count": 15,
      "outputs": []
    },
    {
      "cell_type": "code",
      "metadata": {
        "id": "K1-EMKRKmybY",
        "outputId": "421b6e58-399f-40da-e313-e819c8b1957c",
        "colab": {
          "base_uri": "https://localhost:8080/",
          "height": 542
        }
      },
      "source": [
        "import plotly.graph_objects as go\n",
        "fig_reg = px.bar(top_count1,x=top_count1.index, y='sale_dollars',color='sale_dollars')\n",
        "fig_reg.update_layout(\n",
        "    title=\"Sales of liquor per category\",\n",
        "    xaxis_title=\"Category Name\",\n",
        "    yaxis_title=\"Sales, dollars\",\n",
        "    )\n",
        "fig_reg.show()"
      ],
      "execution_count": 16,
      "outputs": [
        {
          "output_type": "display_data",
          "data": {
            "text/html": [
              "<html>\n",
              "<head><meta charset=\"utf-8\" /></head>\n",
              "<body>\n",
              "    <div>\n",
              "            <script src=\"https://cdnjs.cloudflare.com/ajax/libs/mathjax/2.7.5/MathJax.js?config=TeX-AMS-MML_SVG\"></script><script type=\"text/javascript\">if (window.MathJax) {MathJax.Hub.Config({SVG: {font: \"STIX-Web\"}});}</script>\n",
              "                <script type=\"text/javascript\">window.PlotlyConfig = {MathJaxConfig: 'local'};</script>\n",
              "        <script src=\"https://cdn.plot.ly/plotly-latest.min.js\"></script>    \n",
              "            <div id=\"cae75fdb-da5e-40b6-86fc-ea5c1a61fd6b\" class=\"plotly-graph-div\" style=\"height:525px; width:100%;\"></div>\n",
              "            <script type=\"text/javascript\">\n",
              "                \n",
              "                    window.PLOTLYENV=window.PLOTLYENV || {};\n",
              "                    \n",
              "                if (document.getElementById(\"cae75fdb-da5e-40b6-86fc-ea5c1a61fd6b\")) {\n",
              "                    Plotly.newPlot(\n",
              "                        'cae75fdb-da5e-40b6-86fc-ea5c1a61fd6b',\n",
              "                        [{\"alignmentgroup\": \"True\", \"hoverlabel\": {\"namelength\": 0}, \"hovertemplate\": \"x=%{x}<br>sale_dollars=%{marker.color}\", \"legendgroup\": \"\", \"marker\": {\"color\": [665640.2699999997, 456244.5599999996, 403643.71000000025, 326422.01, 249269.31000000017, 199388.13, 190692.8199999999, 188888.19999999998, 158407.95999999996, 152309.34000000008], \"coloraxis\": \"coloraxis\"}, \"name\": \"\", \"offsetgroup\": \"\", \"orientation\": \"v\", \"showlegend\": false, \"textposition\": \"auto\", \"type\": \"bar\", \"x\": [\"American Vodkas\", \"Canadian Whiskies\", \"Imported Brandies\", \"Straight Bourbon Whiskies\", \"Spiced Rum\", \"100% Agave Tequila\", \"Temporary & Specialty Packages\", \"Whiskey Liqueur\", \"Imported Vodkas\", \"Tennessee Whiskies\"], \"xaxis\": \"x\", \"y\": [665640.2699999997, 456244.5599999996, 403643.71000000025, 326422.01, 249269.31000000017, 199388.13, 190692.8199999999, 188888.19999999998, 158407.95999999996, 152309.34000000008], \"yaxis\": \"y\"}],\n",
              "                        {\"barmode\": \"relative\", \"coloraxis\": {\"colorbar\": {\"title\": {\"text\": \"sale_dollars\"}}, \"colorscale\": [[0.0, \"#0d0887\"], [0.1111111111111111, \"#46039f\"], [0.2222222222222222, \"#7201a8\"], [0.3333333333333333, \"#9c179e\"], [0.4444444444444444, \"#bd3786\"], [0.5555555555555556, \"#d8576b\"], [0.6666666666666666, \"#ed7953\"], [0.7777777777777778, \"#fb9f3a\"], [0.8888888888888888, \"#fdca26\"], [1.0, \"#f0f921\"]]}, \"legend\": {\"tracegroupgap\": 0}, \"margin\": {\"t\": 60}, \"template\": {\"data\": {\"bar\": [{\"error_x\": {\"color\": \"#2a3f5f\"}, \"error_y\": {\"color\": \"#2a3f5f\"}, \"marker\": {\"line\": {\"color\": \"#E5ECF6\", \"width\": 0.5}}, \"type\": \"bar\"}], \"barpolar\": [{\"marker\": {\"line\": {\"color\": \"#E5ECF6\", \"width\": 0.5}}, \"type\": \"barpolar\"}], \"carpet\": [{\"aaxis\": {\"endlinecolor\": \"#2a3f5f\", \"gridcolor\": \"white\", \"linecolor\": \"white\", \"minorgridcolor\": \"white\", \"startlinecolor\": \"#2a3f5f\"}, \"baxis\": {\"endlinecolor\": \"#2a3f5f\", \"gridcolor\": \"white\", \"linecolor\": \"white\", \"minorgridcolor\": \"white\", \"startlinecolor\": \"#2a3f5f\"}, \"type\": \"carpet\"}], \"choropleth\": [{\"colorbar\": {\"outlinewidth\": 0, \"ticks\": \"\"}, \"type\": \"choropleth\"}], \"contour\": [{\"colorbar\": {\"outlinewidth\": 0, \"ticks\": \"\"}, \"colorscale\": [[0.0, \"#0d0887\"], [0.1111111111111111, \"#46039f\"], [0.2222222222222222, \"#7201a8\"], [0.3333333333333333, \"#9c179e\"], [0.4444444444444444, \"#bd3786\"], [0.5555555555555556, \"#d8576b\"], [0.6666666666666666, \"#ed7953\"], [0.7777777777777778, \"#fb9f3a\"], [0.8888888888888888, \"#fdca26\"], [1.0, \"#f0f921\"]], \"type\": \"contour\"}], \"contourcarpet\": [{\"colorbar\": {\"outlinewidth\": 0, \"ticks\": \"\"}, \"type\": \"contourcarpet\"}], \"heatmap\": [{\"colorbar\": {\"outlinewidth\": 0, \"ticks\": \"\"}, \"colorscale\": [[0.0, \"#0d0887\"], [0.1111111111111111, \"#46039f\"], [0.2222222222222222, \"#7201a8\"], [0.3333333333333333, \"#9c179e\"], [0.4444444444444444, \"#bd3786\"], [0.5555555555555556, \"#d8576b\"], [0.6666666666666666, \"#ed7953\"], [0.7777777777777778, \"#fb9f3a\"], [0.8888888888888888, \"#fdca26\"], [1.0, \"#f0f921\"]], \"type\": \"heatmap\"}], \"heatmapgl\": [{\"colorbar\": {\"outlinewidth\": 0, \"ticks\": \"\"}, \"colorscale\": [[0.0, \"#0d0887\"], [0.1111111111111111, \"#46039f\"], [0.2222222222222222, \"#7201a8\"], [0.3333333333333333, \"#9c179e\"], [0.4444444444444444, \"#bd3786\"], [0.5555555555555556, \"#d8576b\"], [0.6666666666666666, \"#ed7953\"], [0.7777777777777778, \"#fb9f3a\"], [0.8888888888888888, \"#fdca26\"], [1.0, \"#f0f921\"]], \"type\": \"heatmapgl\"}], \"histogram\": [{\"marker\": {\"colorbar\": {\"outlinewidth\": 0, \"ticks\": \"\"}}, \"type\": \"histogram\"}], \"histogram2d\": [{\"colorbar\": {\"outlinewidth\": 0, \"ticks\": \"\"}, \"colorscale\": [[0.0, \"#0d0887\"], [0.1111111111111111, \"#46039f\"], [0.2222222222222222, \"#7201a8\"], [0.3333333333333333, \"#9c179e\"], [0.4444444444444444, \"#bd3786\"], [0.5555555555555556, \"#d8576b\"], [0.6666666666666666, \"#ed7953\"], [0.7777777777777778, \"#fb9f3a\"], [0.8888888888888888, \"#fdca26\"], [1.0, \"#f0f921\"]], \"type\": \"histogram2d\"}], \"histogram2dcontour\": [{\"colorbar\": {\"outlinewidth\": 0, \"ticks\": \"\"}, \"colorscale\": [[0.0, \"#0d0887\"], [0.1111111111111111, \"#46039f\"], [0.2222222222222222, \"#7201a8\"], [0.3333333333333333, \"#9c179e\"], [0.4444444444444444, \"#bd3786\"], [0.5555555555555556, \"#d8576b\"], [0.6666666666666666, \"#ed7953\"], [0.7777777777777778, \"#fb9f3a\"], [0.8888888888888888, \"#fdca26\"], [1.0, \"#f0f921\"]], \"type\": \"histogram2dcontour\"}], \"mesh3d\": [{\"colorbar\": {\"outlinewidth\": 0, \"ticks\": \"\"}, \"type\": \"mesh3d\"}], \"parcoords\": [{\"line\": {\"colorbar\": {\"outlinewidth\": 0, \"ticks\": \"\"}}, \"type\": \"parcoords\"}], \"pie\": [{\"automargin\": true, \"type\": \"pie\"}], \"scatter\": [{\"marker\": {\"colorbar\": {\"outlinewidth\": 0, \"ticks\": \"\"}}, \"type\": \"scatter\"}], \"scatter3d\": [{\"line\": {\"colorbar\": {\"outlinewidth\": 0, \"ticks\": \"\"}}, \"marker\": {\"colorbar\": {\"outlinewidth\": 0, \"ticks\": \"\"}}, \"type\": \"scatter3d\"}], \"scattercarpet\": [{\"marker\": {\"colorbar\": {\"outlinewidth\": 0, \"ticks\": \"\"}}, \"type\": \"scattercarpet\"}], \"scattergeo\": [{\"marker\": {\"colorbar\": {\"outlinewidth\": 0, \"ticks\": \"\"}}, \"type\": \"scattergeo\"}], \"scattergl\": [{\"marker\": {\"colorbar\": {\"outlinewidth\": 0, \"ticks\": \"\"}}, \"type\": \"scattergl\"}], \"scattermapbox\": [{\"marker\": {\"colorbar\": {\"outlinewidth\": 0, \"ticks\": \"\"}}, \"type\": \"scattermapbox\"}], \"scatterpolar\": [{\"marker\": {\"colorbar\": {\"outlinewidth\": 0, \"ticks\": \"\"}}, \"type\": \"scatterpolar\"}], \"scatterpolargl\": [{\"marker\": {\"colorbar\": {\"outlinewidth\": 0, \"ticks\": \"\"}}, \"type\": \"scatterpolargl\"}], \"scatterternary\": [{\"marker\": {\"colorbar\": {\"outlinewidth\": 0, \"ticks\": \"\"}}, \"type\": \"scatterternary\"}], \"surface\": [{\"colorbar\": {\"outlinewidth\": 0, \"ticks\": \"\"}, \"colorscale\": [[0.0, \"#0d0887\"], [0.1111111111111111, \"#46039f\"], [0.2222222222222222, \"#7201a8\"], [0.3333333333333333, \"#9c179e\"], [0.4444444444444444, \"#bd3786\"], [0.5555555555555556, \"#d8576b\"], [0.6666666666666666, \"#ed7953\"], [0.7777777777777778, \"#fb9f3a\"], [0.8888888888888888, \"#fdca26\"], [1.0, \"#f0f921\"]], \"type\": \"surface\"}], \"table\": [{\"cells\": {\"fill\": {\"color\": \"#EBF0F8\"}, \"line\": {\"color\": \"white\"}}, \"header\": {\"fill\": {\"color\": \"#C8D4E3\"}, \"line\": {\"color\": \"white\"}}, \"type\": \"table\"}]}, \"layout\": {\"annotationdefaults\": {\"arrowcolor\": \"#2a3f5f\", \"arrowhead\": 0, \"arrowwidth\": 1}, \"coloraxis\": {\"colorbar\": {\"outlinewidth\": 0, \"ticks\": \"\"}}, \"colorscale\": {\"diverging\": [[0, \"#8e0152\"], [0.1, \"#c51b7d\"], [0.2, \"#de77ae\"], [0.3, \"#f1b6da\"], [0.4, \"#fde0ef\"], [0.5, \"#f7f7f7\"], [0.6, \"#e6f5d0\"], [0.7, \"#b8e186\"], [0.8, \"#7fbc41\"], [0.9, \"#4d9221\"], [1, \"#276419\"]], \"sequential\": [[0.0, \"#0d0887\"], [0.1111111111111111, \"#46039f\"], [0.2222222222222222, \"#7201a8\"], [0.3333333333333333, \"#9c179e\"], [0.4444444444444444, \"#bd3786\"], [0.5555555555555556, \"#d8576b\"], [0.6666666666666666, \"#ed7953\"], [0.7777777777777778, \"#fb9f3a\"], [0.8888888888888888, \"#fdca26\"], [1.0, \"#f0f921\"]], \"sequentialminus\": [[0.0, \"#0d0887\"], [0.1111111111111111, \"#46039f\"], [0.2222222222222222, \"#7201a8\"], [0.3333333333333333, \"#9c179e\"], [0.4444444444444444, \"#bd3786\"], [0.5555555555555556, \"#d8576b\"], [0.6666666666666666, \"#ed7953\"], [0.7777777777777778, \"#fb9f3a\"], [0.8888888888888888, \"#fdca26\"], [1.0, \"#f0f921\"]]}, \"colorway\": [\"#636efa\", \"#EF553B\", \"#00cc96\", \"#ab63fa\", \"#FFA15A\", \"#19d3f3\", \"#FF6692\", \"#B6E880\", \"#FF97FF\", \"#FECB52\"], \"font\": {\"color\": \"#2a3f5f\"}, \"geo\": {\"bgcolor\": \"white\", \"lakecolor\": \"white\", \"landcolor\": \"#E5ECF6\", \"showlakes\": true, \"showland\": true, \"subunitcolor\": \"white\"}, \"hoverlabel\": {\"align\": \"left\"}, \"hovermode\": \"closest\", \"mapbox\": {\"style\": \"light\"}, \"paper_bgcolor\": \"white\", \"plot_bgcolor\": \"#E5ECF6\", \"polar\": {\"angularaxis\": {\"gridcolor\": \"white\", \"linecolor\": \"white\", \"ticks\": \"\"}, \"bgcolor\": \"#E5ECF6\", \"radialaxis\": {\"gridcolor\": \"white\", \"linecolor\": \"white\", \"ticks\": \"\"}}, \"scene\": {\"xaxis\": {\"backgroundcolor\": \"#E5ECF6\", \"gridcolor\": \"white\", \"gridwidth\": 2, \"linecolor\": \"white\", \"showbackground\": true, \"ticks\": \"\", \"zerolinecolor\": \"white\"}, \"yaxis\": {\"backgroundcolor\": \"#E5ECF6\", \"gridcolor\": \"white\", \"gridwidth\": 2, \"linecolor\": \"white\", \"showbackground\": true, \"ticks\": \"\", \"zerolinecolor\": \"white\"}, \"zaxis\": {\"backgroundcolor\": \"#E5ECF6\", \"gridcolor\": \"white\", \"gridwidth\": 2, \"linecolor\": \"white\", \"showbackground\": true, \"ticks\": \"\", \"zerolinecolor\": \"white\"}}, \"shapedefaults\": {\"line\": {\"color\": \"#2a3f5f\"}}, \"ternary\": {\"aaxis\": {\"gridcolor\": \"white\", \"linecolor\": \"white\", \"ticks\": \"\"}, \"baxis\": {\"gridcolor\": \"white\", \"linecolor\": \"white\", \"ticks\": \"\"}, \"bgcolor\": \"#E5ECF6\", \"caxis\": {\"gridcolor\": \"white\", \"linecolor\": \"white\", \"ticks\": \"\"}}, \"title\": {\"x\": 0.05}, \"xaxis\": {\"automargin\": true, \"gridcolor\": \"white\", \"linecolor\": \"white\", \"ticks\": \"\", \"title\": {\"standoff\": 15}, \"zerolinecolor\": \"white\", \"zerolinewidth\": 2}, \"yaxis\": {\"automargin\": true, \"gridcolor\": \"white\", \"linecolor\": \"white\", \"ticks\": \"\", \"title\": {\"standoff\": 15}, \"zerolinecolor\": \"white\", \"zerolinewidth\": 2}}}, \"title\": {\"text\": \"Sales of liquor per category\"}, \"xaxis\": {\"anchor\": \"y\", \"domain\": [0.0, 1.0], \"title\": {\"text\": \"Category Name\"}}, \"yaxis\": {\"anchor\": \"x\", \"domain\": [0.0, 1.0], \"title\": {\"text\": \"Sales, dollars\"}}},\n",
              "                        {\"responsive\": true}\n",
              "                    ).then(function(){\n",
              "                            \n",
              "var gd = document.getElementById('cae75fdb-da5e-40b6-86fc-ea5c1a61fd6b');\n",
              "var x = new MutationObserver(function (mutations, observer) {{\n",
              "        var display = window.getComputedStyle(gd).display;\n",
              "        if (!display || display === 'none') {{\n",
              "            console.log([gd, 'removed!']);\n",
              "            Plotly.purge(gd);\n",
              "            observer.disconnect();\n",
              "        }}\n",
              "}});\n",
              "\n",
              "// Listen for the removal of the full notebook cells\n",
              "var notebookContainer = gd.closest('#notebook-container');\n",
              "if (notebookContainer) {{\n",
              "    x.observe(notebookContainer, {childList: true});\n",
              "}}\n",
              "\n",
              "// Listen for the clearing of the current output cell\n",
              "var outputEl = gd.closest('.output');\n",
              "if (outputEl) {{\n",
              "    x.observe(outputEl, {childList: true});\n",
              "}}\n",
              "\n",
              "                        })\n",
              "                };\n",
              "                \n",
              "            </script>\n",
              "        </div>\n",
              "</body>\n",
              "</html>"
            ]
          },
          "metadata": {
            "tags": []
          }
        }
      ]
    },
    {
      "cell_type": "markdown",
      "metadata": {
        "id": "NoF66QXSxw_g"
      },
      "source": [
        "The highest number of sales in 2020 has American Vodkas"
      ]
    },
    {
      "cell_type": "markdown",
      "metadata": {
        "id": "eqaI8bn1x8Fs"
      },
      "source": [
        "**Top 20 sales of liquor by city name**"
      ]
    },
    {
      "cell_type": "code",
      "metadata": {
        "id": "OfJMZaI7m4H-",
        "outputId": "bcbe20f9-c34e-4e26-a616-a506f8271990",
        "colab": {
          "base_uri": "https://localhost:8080/",
          "height": 542
        }
      },
      "source": [
        "df_plot = test_task_data.groupby(['city','pack','date'])['sale_dollars'].sum().groupby(\n",
        "            ['city','pack']).max().sort_values().groupby(\n",
        "            ['city']).sum().sort_values(ascending=False)\n",
        "top_count1 = pd.DataFrame(df_plot)\n",
        "top_count1 = pd.DataFrame(df_plot.head(20))\n",
        "\n",
        "fig_reg = px.bar(top_count1,x=top_count1.index, y='sale_dollars',color='sale_dollars')\n",
        "fig_reg.update_layout(\n",
        "    title=\"Sales of liquor per city\",\n",
        "    xaxis_title=\"City Name\",\n",
        "    yaxis_title=\"Sales, dollars\",\n",
        "    )\n",
        "fig_reg.show()"
      ],
      "execution_count": 51,
      "outputs": [
        {
          "output_type": "display_data",
          "data": {
            "text/html": [
              "<html>\n",
              "<head><meta charset=\"utf-8\" /></head>\n",
              "<body>\n",
              "    <div>\n",
              "            <script src=\"https://cdnjs.cloudflare.com/ajax/libs/mathjax/2.7.5/MathJax.js?config=TeX-AMS-MML_SVG\"></script><script type=\"text/javascript\">if (window.MathJax) {MathJax.Hub.Config({SVG: {font: \"STIX-Web\"}});}</script>\n",
              "                <script type=\"text/javascript\">window.PlotlyConfig = {MathJaxConfig: 'local'};</script>\n",
              "        <script src=\"https://cdn.plot.ly/plotly-latest.min.js\"></script>    \n",
              "            <div id=\"7bd34ab3-f553-49c7-b58b-dc3843af5e23\" class=\"plotly-graph-div\" style=\"height:525px; width:100%;\"></div>\n",
              "            <script type=\"text/javascript\">\n",
              "                \n",
              "                    window.PLOTLYENV=window.PLOTLYENV || {};\n",
              "                    \n",
              "                if (document.getElementById(\"7bd34ab3-f553-49c7-b58b-dc3843af5e23\")) {\n",
              "                    Plotly.newPlot(\n",
              "                        '7bd34ab3-f553-49c7-b58b-dc3843af5e23',\n",
              "                        [{\"alignmentgroup\": \"True\", \"hoverlabel\": {\"namelength\": 0}, \"hovertemplate\": \"x=%{x}<br>sale_dollars=%{marker.color}\", \"legendgroup\": \"\", \"marker\": {\"color\": [567652.0700000003, 541149.6000000001, 498270.28, 475754.6700000003, 401262.56999999995, 397843.74, 372165.82999999984, 355272.57999999984, 340011.2699999999, 325148.53, 301992.37, 287464.23000000004, 258558.6899999999, 200999.66999999995, 194535.4, 162208.91, 150778.3, 148412.41999999998, 148385.0, 136839.79], \"coloraxis\": \"coloraxis\"}, \"name\": \"\", \"offsetgroup\": \"\", \"orientation\": \"v\", \"showlegend\": false, \"textposition\": \"auto\", \"type\": \"bar\", \"x\": [\"Des Moines\", \"Urbandale\", \"Sioux City\", \"Council Bluffs\", \"Waterloo\", \"Davenport\", \"Cedar Rapids\", \"Ames\", \"Ankeny\", \"Coralville\", \"Dubuque\", \"West Des Moines\", \"Windsor Heights\", \"Mason City\", \"Iowa City\", \"Decorah\", \"Cedar Falls\", \"Fort Dodge\", \"Muscatine\", \"Burlington\"], \"xaxis\": \"x\", \"y\": [567652.0700000003, 541149.6000000001, 498270.28, 475754.6700000003, 401262.56999999995, 397843.74, 372165.82999999984, 355272.57999999984, 340011.2699999999, 325148.53, 301992.37, 287464.23000000004, 258558.6899999999, 200999.66999999995, 194535.4, 162208.91, 150778.3, 148412.41999999998, 148385.0, 136839.79], \"yaxis\": \"y\"}],\n",
              "                        {\"barmode\": \"relative\", \"coloraxis\": {\"colorbar\": {\"title\": {\"text\": \"sale_dollars\"}}, \"colorscale\": [[0.0, \"#0d0887\"], [0.1111111111111111, \"#46039f\"], [0.2222222222222222, \"#7201a8\"], [0.3333333333333333, \"#9c179e\"], [0.4444444444444444, \"#bd3786\"], [0.5555555555555556, \"#d8576b\"], [0.6666666666666666, \"#ed7953\"], [0.7777777777777778, \"#fb9f3a\"], [0.8888888888888888, \"#fdca26\"], [1.0, \"#f0f921\"]]}, \"legend\": {\"tracegroupgap\": 0}, \"margin\": {\"t\": 60}, \"template\": {\"data\": {\"bar\": [{\"error_x\": {\"color\": \"#2a3f5f\"}, \"error_y\": {\"color\": \"#2a3f5f\"}, \"marker\": {\"line\": {\"color\": \"#E5ECF6\", \"width\": 0.5}}, \"type\": \"bar\"}], \"barpolar\": [{\"marker\": {\"line\": {\"color\": \"#E5ECF6\", \"width\": 0.5}}, \"type\": \"barpolar\"}], \"carpet\": [{\"aaxis\": {\"endlinecolor\": \"#2a3f5f\", \"gridcolor\": \"white\", \"linecolor\": \"white\", \"minorgridcolor\": \"white\", \"startlinecolor\": \"#2a3f5f\"}, \"baxis\": {\"endlinecolor\": \"#2a3f5f\", \"gridcolor\": \"white\", \"linecolor\": \"white\", \"minorgridcolor\": \"white\", \"startlinecolor\": \"#2a3f5f\"}, \"type\": \"carpet\"}], \"choropleth\": [{\"colorbar\": {\"outlinewidth\": 0, \"ticks\": \"\"}, \"type\": \"choropleth\"}], \"contour\": [{\"colorbar\": {\"outlinewidth\": 0, \"ticks\": \"\"}, \"colorscale\": [[0.0, \"#0d0887\"], [0.1111111111111111, \"#46039f\"], [0.2222222222222222, \"#7201a8\"], [0.3333333333333333, \"#9c179e\"], [0.4444444444444444, \"#bd3786\"], [0.5555555555555556, \"#d8576b\"], [0.6666666666666666, \"#ed7953\"], [0.7777777777777778, \"#fb9f3a\"], [0.8888888888888888, \"#fdca26\"], [1.0, \"#f0f921\"]], \"type\": \"contour\"}], \"contourcarpet\": [{\"colorbar\": {\"outlinewidth\": 0, \"ticks\": \"\"}, \"type\": \"contourcarpet\"}], \"heatmap\": [{\"colorbar\": {\"outlinewidth\": 0, \"ticks\": \"\"}, \"colorscale\": [[0.0, \"#0d0887\"], [0.1111111111111111, \"#46039f\"], [0.2222222222222222, \"#7201a8\"], [0.3333333333333333, \"#9c179e\"], [0.4444444444444444, \"#bd3786\"], [0.5555555555555556, \"#d8576b\"], [0.6666666666666666, \"#ed7953\"], [0.7777777777777778, \"#fb9f3a\"], [0.8888888888888888, \"#fdca26\"], [1.0, \"#f0f921\"]], \"type\": \"heatmap\"}], \"heatmapgl\": [{\"colorbar\": {\"outlinewidth\": 0, \"ticks\": \"\"}, \"colorscale\": [[0.0, \"#0d0887\"], [0.1111111111111111, \"#46039f\"], [0.2222222222222222, \"#7201a8\"], [0.3333333333333333, \"#9c179e\"], [0.4444444444444444, \"#bd3786\"], [0.5555555555555556, \"#d8576b\"], [0.6666666666666666, \"#ed7953\"], [0.7777777777777778, \"#fb9f3a\"], [0.8888888888888888, \"#fdca26\"], [1.0, \"#f0f921\"]], \"type\": \"heatmapgl\"}], \"histogram\": [{\"marker\": {\"colorbar\": {\"outlinewidth\": 0, \"ticks\": \"\"}}, \"type\": \"histogram\"}], \"histogram2d\": [{\"colorbar\": {\"outlinewidth\": 0, \"ticks\": \"\"}, \"colorscale\": [[0.0, \"#0d0887\"], [0.1111111111111111, \"#46039f\"], [0.2222222222222222, \"#7201a8\"], [0.3333333333333333, \"#9c179e\"], [0.4444444444444444, \"#bd3786\"], [0.5555555555555556, \"#d8576b\"], [0.6666666666666666, \"#ed7953\"], [0.7777777777777778, \"#fb9f3a\"], [0.8888888888888888, \"#fdca26\"], [1.0, \"#f0f921\"]], \"type\": \"histogram2d\"}], \"histogram2dcontour\": [{\"colorbar\": {\"outlinewidth\": 0, \"ticks\": \"\"}, \"colorscale\": [[0.0, \"#0d0887\"], [0.1111111111111111, \"#46039f\"], [0.2222222222222222, \"#7201a8\"], [0.3333333333333333, \"#9c179e\"], [0.4444444444444444, \"#bd3786\"], [0.5555555555555556, \"#d8576b\"], [0.6666666666666666, \"#ed7953\"], [0.7777777777777778, \"#fb9f3a\"], [0.8888888888888888, \"#fdca26\"], [1.0, \"#f0f921\"]], \"type\": \"histogram2dcontour\"}], \"mesh3d\": [{\"colorbar\": {\"outlinewidth\": 0, \"ticks\": \"\"}, \"type\": \"mesh3d\"}], \"parcoords\": [{\"line\": {\"colorbar\": {\"outlinewidth\": 0, \"ticks\": \"\"}}, \"type\": \"parcoords\"}], \"pie\": [{\"automargin\": true, \"type\": \"pie\"}], \"scatter\": [{\"marker\": {\"colorbar\": {\"outlinewidth\": 0, \"ticks\": \"\"}}, \"type\": \"scatter\"}], \"scatter3d\": [{\"line\": {\"colorbar\": {\"outlinewidth\": 0, \"ticks\": \"\"}}, \"marker\": {\"colorbar\": {\"outlinewidth\": 0, \"ticks\": \"\"}}, \"type\": \"scatter3d\"}], \"scattercarpet\": [{\"marker\": {\"colorbar\": {\"outlinewidth\": 0, \"ticks\": \"\"}}, \"type\": \"scattercarpet\"}], \"scattergeo\": [{\"marker\": {\"colorbar\": {\"outlinewidth\": 0, \"ticks\": \"\"}}, \"type\": \"scattergeo\"}], \"scattergl\": [{\"marker\": {\"colorbar\": {\"outlinewidth\": 0, \"ticks\": \"\"}}, \"type\": \"scattergl\"}], \"scattermapbox\": [{\"marker\": {\"colorbar\": {\"outlinewidth\": 0, \"ticks\": \"\"}}, \"type\": \"scattermapbox\"}], \"scatterpolar\": [{\"marker\": {\"colorbar\": {\"outlinewidth\": 0, \"ticks\": \"\"}}, \"type\": \"scatterpolar\"}], \"scatterpolargl\": [{\"marker\": {\"colorbar\": {\"outlinewidth\": 0, \"ticks\": \"\"}}, \"type\": \"scatterpolargl\"}], \"scatterternary\": [{\"marker\": {\"colorbar\": {\"outlinewidth\": 0, \"ticks\": \"\"}}, \"type\": \"scatterternary\"}], \"surface\": [{\"colorbar\": {\"outlinewidth\": 0, \"ticks\": \"\"}, \"colorscale\": [[0.0, \"#0d0887\"], [0.1111111111111111, \"#46039f\"], [0.2222222222222222, \"#7201a8\"], [0.3333333333333333, \"#9c179e\"], [0.4444444444444444, \"#bd3786\"], [0.5555555555555556, \"#d8576b\"], [0.6666666666666666, \"#ed7953\"], [0.7777777777777778, \"#fb9f3a\"], [0.8888888888888888, \"#fdca26\"], [1.0, \"#f0f921\"]], \"type\": \"surface\"}], \"table\": [{\"cells\": {\"fill\": {\"color\": \"#EBF0F8\"}, \"line\": {\"color\": \"white\"}}, \"header\": {\"fill\": {\"color\": \"#C8D4E3\"}, \"line\": {\"color\": \"white\"}}, \"type\": \"table\"}]}, \"layout\": {\"annotationdefaults\": {\"arrowcolor\": \"#2a3f5f\", \"arrowhead\": 0, \"arrowwidth\": 1}, \"coloraxis\": {\"colorbar\": {\"outlinewidth\": 0, \"ticks\": \"\"}}, \"colorscale\": {\"diverging\": [[0, \"#8e0152\"], [0.1, \"#c51b7d\"], [0.2, \"#de77ae\"], [0.3, \"#f1b6da\"], [0.4, \"#fde0ef\"], [0.5, \"#f7f7f7\"], [0.6, \"#e6f5d0\"], [0.7, \"#b8e186\"], [0.8, \"#7fbc41\"], [0.9, \"#4d9221\"], [1, \"#276419\"]], \"sequential\": [[0.0, \"#0d0887\"], [0.1111111111111111, \"#46039f\"], [0.2222222222222222, \"#7201a8\"], [0.3333333333333333, \"#9c179e\"], [0.4444444444444444, \"#bd3786\"], [0.5555555555555556, \"#d8576b\"], [0.6666666666666666, \"#ed7953\"], [0.7777777777777778, \"#fb9f3a\"], [0.8888888888888888, \"#fdca26\"], [1.0, \"#f0f921\"]], \"sequentialminus\": [[0.0, \"#0d0887\"], [0.1111111111111111, \"#46039f\"], [0.2222222222222222, \"#7201a8\"], [0.3333333333333333, \"#9c179e\"], [0.4444444444444444, \"#bd3786\"], [0.5555555555555556, \"#d8576b\"], [0.6666666666666666, \"#ed7953\"], [0.7777777777777778, \"#fb9f3a\"], [0.8888888888888888, \"#fdca26\"], [1.0, \"#f0f921\"]]}, \"colorway\": [\"#636efa\", \"#EF553B\", \"#00cc96\", \"#ab63fa\", \"#FFA15A\", \"#19d3f3\", \"#FF6692\", \"#B6E880\", \"#FF97FF\", \"#FECB52\"], \"font\": {\"color\": \"#2a3f5f\"}, \"geo\": {\"bgcolor\": \"white\", \"lakecolor\": \"white\", \"landcolor\": \"#E5ECF6\", \"showlakes\": true, \"showland\": true, \"subunitcolor\": \"white\"}, \"hoverlabel\": {\"align\": \"left\"}, \"hovermode\": \"closest\", \"mapbox\": {\"style\": \"light\"}, \"paper_bgcolor\": \"white\", \"plot_bgcolor\": \"#E5ECF6\", \"polar\": {\"angularaxis\": {\"gridcolor\": \"white\", \"linecolor\": \"white\", \"ticks\": \"\"}, \"bgcolor\": \"#E5ECF6\", \"radialaxis\": {\"gridcolor\": \"white\", \"linecolor\": \"white\", \"ticks\": \"\"}}, \"scene\": {\"xaxis\": {\"backgroundcolor\": \"#E5ECF6\", \"gridcolor\": \"white\", \"gridwidth\": 2, \"linecolor\": \"white\", \"showbackground\": true, \"ticks\": \"\", \"zerolinecolor\": \"white\"}, \"yaxis\": {\"backgroundcolor\": \"#E5ECF6\", \"gridcolor\": \"white\", \"gridwidth\": 2, \"linecolor\": \"white\", \"showbackground\": true, \"ticks\": \"\", \"zerolinecolor\": \"white\"}, \"zaxis\": {\"backgroundcolor\": \"#E5ECF6\", \"gridcolor\": \"white\", \"gridwidth\": 2, \"linecolor\": \"white\", \"showbackground\": true, \"ticks\": \"\", \"zerolinecolor\": \"white\"}}, \"shapedefaults\": {\"line\": {\"color\": \"#2a3f5f\"}}, \"ternary\": {\"aaxis\": {\"gridcolor\": \"white\", \"linecolor\": \"white\", \"ticks\": \"\"}, \"baxis\": {\"gridcolor\": \"white\", \"linecolor\": \"white\", \"ticks\": \"\"}, \"bgcolor\": \"#E5ECF6\", \"caxis\": {\"gridcolor\": \"white\", \"linecolor\": \"white\", \"ticks\": \"\"}}, \"title\": {\"x\": 0.05}, \"xaxis\": {\"automargin\": true, \"gridcolor\": \"white\", \"linecolor\": \"white\", \"ticks\": \"\", \"title\": {\"standoff\": 15}, \"zerolinecolor\": \"white\", \"zerolinewidth\": 2}, \"yaxis\": {\"automargin\": true, \"gridcolor\": \"white\", \"linecolor\": \"white\", \"ticks\": \"\", \"title\": {\"standoff\": 15}, \"zerolinecolor\": \"white\", \"zerolinewidth\": 2}}}, \"title\": {\"text\": \"Sales of liquor per city\"}, \"xaxis\": {\"anchor\": \"y\", \"domain\": [0.0, 1.0], \"title\": {\"text\": \"City Name\"}}, \"yaxis\": {\"anchor\": \"x\", \"domain\": [0.0, 1.0], \"title\": {\"text\": \"Sales, dollars\"}}},\n",
              "                        {\"responsive\": true}\n",
              "                    ).then(function(){\n",
              "                            \n",
              "var gd = document.getElementById('7bd34ab3-f553-49c7-b58b-dc3843af5e23');\n",
              "var x = new MutationObserver(function (mutations, observer) {{\n",
              "        var display = window.getComputedStyle(gd).display;\n",
              "        if (!display || display === 'none') {{\n",
              "            console.log([gd, 'removed!']);\n",
              "            Plotly.purge(gd);\n",
              "            observer.disconnect();\n",
              "        }}\n",
              "}});\n",
              "\n",
              "// Listen for the removal of the full notebook cells\n",
              "var notebookContainer = gd.closest('#notebook-container');\n",
              "if (notebookContainer) {{\n",
              "    x.observe(notebookContainer, {childList: true});\n",
              "}}\n",
              "\n",
              "// Listen for the clearing of the current output cell\n",
              "var outputEl = gd.closest('.output');\n",
              "if (outputEl) {{\n",
              "    x.observe(outputEl, {childList: true});\n",
              "}}\n",
              "\n",
              "                        })\n",
              "                };\n",
              "                \n",
              "            </script>\n",
              "        </div>\n",
              "</body>\n",
              "</html>"
            ]
          },
          "metadata": {
            "tags": []
          }
        }
      ]
    },
    {
      "cell_type": "markdown",
      "metadata": {
        "id": "IhF0u_fByF4H"
      },
      "source": [
        "Des Moines city has the highest sales of liquors"
      ]
    },
    {
      "cell_type": "markdown",
      "metadata": {
        "id": "lli_KYxlyPVw"
      },
      "source": [
        "**Sales of liquors per month**"
      ]
    },
    {
      "cell_type": "code",
      "metadata": {
        "id": "ON2VQtjspPEF",
        "outputId": "fc9b72e6-3b4a-485e-d23a-69e5bcffaa60",
        "colab": {
          "base_uri": "https://localhost:8080/",
          "height": 542
        }
      },
      "source": [
        "test_task_data['date'] = pd.to_datetime(test_task_data['date'])\n",
        "test_task_data['month'] = test_task_data['date'].dt.month\n",
        "test_task_data['day'] = test_task_data['date'].dt.day\n",
        "df_plot = test_task_data.groupby(['month','pack','date'])['sale_dollars'].sum().groupby(\n",
        "            ['month','pack']).max().sort_values().groupby(\n",
        "            ['month']).sum().sort_values(ascending=False)\n",
        "top_count1 = pd.DataFrame(df_plot)\n",
        "top_count1 = pd.DataFrame(df_plot.head(50))\n",
        "\n",
        "fig_reg = px.bar(top_count1,x=top_count1.index, y='sale_dollars',color='sale_dollars')\n",
        "fig_reg.update_layout(\n",
        "    title=\"Sales of liquor per Month\",\n",
        "    xaxis_title=\" Month Number\",\n",
        "    yaxis_title=\"Sales, dollars\",\n",
        "    )\n",
        "fig_reg.show()"
      ],
      "execution_count": 17,
      "outputs": [
        {
          "output_type": "display_data",
          "data": {
            "text/html": [
              "<html>\n",
              "<head><meta charset=\"utf-8\" /></head>\n",
              "<body>\n",
              "    <div>\n",
              "            <script src=\"https://cdnjs.cloudflare.com/ajax/libs/mathjax/2.7.5/MathJax.js?config=TeX-AMS-MML_SVG\"></script><script type=\"text/javascript\">if (window.MathJax) {MathJax.Hub.Config({SVG: {font: \"STIX-Web\"}});}</script>\n",
              "                <script type=\"text/javascript\">window.PlotlyConfig = {MathJaxConfig: 'local'};</script>\n",
              "        <script src=\"https://cdn.plot.ly/plotly-latest.min.js\"></script>    \n",
              "            <div id=\"8f3523c1-a492-41d2-bde6-95863fec58ec\" class=\"plotly-graph-div\" style=\"height:525px; width:100%;\"></div>\n",
              "            <script type=\"text/javascript\">\n",
              "                \n",
              "                    window.PLOTLYENV=window.PLOTLYENV || {};\n",
              "                    \n",
              "                if (document.getElementById(\"8f3523c1-a492-41d2-bde6-95863fec58ec\")) {\n",
              "                    Plotly.newPlot(\n",
              "                        '8f3523c1-a492-41d2-bde6-95863fec58ec',\n",
              "                        [{\"alignmentgroup\": \"True\", \"hoverlabel\": {\"namelength\": 0}, \"hovertemplate\": \"x=%{x}<br>sale_dollars=%{marker.color}\", \"legendgroup\": \"\", \"marker\": {\"color\": [2380204.230000005, 2141062.410000009, 2085022.4300000058, 2031408.4700000053, 1996661.2700000047, 1847175.0999999987, 1814367.8400000036, 1650849.8900000034, 1573260.6200000003], \"coloraxis\": \"coloraxis\"}, \"name\": \"\", \"offsetgroup\": \"\", \"orientation\": \"v\", \"showlegend\": false, \"textposition\": \"auto\", \"type\": \"bar\", \"x\": [9, 5, 8, 3, 6, 4, 7, 2, 1], \"xaxis\": \"x\", \"y\": [2380204.230000005, 2141062.410000009, 2085022.4300000058, 2031408.4700000053, 1996661.2700000047, 1847175.0999999987, 1814367.8400000036, 1650849.8900000034, 1573260.6200000003], \"yaxis\": \"y\"}],\n",
              "                        {\"barmode\": \"relative\", \"coloraxis\": {\"colorbar\": {\"title\": {\"text\": \"sale_dollars\"}}, \"colorscale\": [[0.0, \"#0d0887\"], [0.1111111111111111, \"#46039f\"], [0.2222222222222222, \"#7201a8\"], [0.3333333333333333, \"#9c179e\"], [0.4444444444444444, \"#bd3786\"], [0.5555555555555556, \"#d8576b\"], [0.6666666666666666, \"#ed7953\"], [0.7777777777777778, \"#fb9f3a\"], [0.8888888888888888, \"#fdca26\"], [1.0, \"#f0f921\"]]}, \"legend\": {\"tracegroupgap\": 0}, \"margin\": {\"t\": 60}, \"template\": {\"data\": {\"bar\": [{\"error_x\": {\"color\": \"#2a3f5f\"}, \"error_y\": {\"color\": \"#2a3f5f\"}, \"marker\": {\"line\": {\"color\": \"#E5ECF6\", \"width\": 0.5}}, \"type\": \"bar\"}], \"barpolar\": [{\"marker\": {\"line\": {\"color\": \"#E5ECF6\", \"width\": 0.5}}, \"type\": \"barpolar\"}], \"carpet\": [{\"aaxis\": {\"endlinecolor\": \"#2a3f5f\", \"gridcolor\": \"white\", \"linecolor\": \"white\", \"minorgridcolor\": \"white\", \"startlinecolor\": \"#2a3f5f\"}, \"baxis\": {\"endlinecolor\": \"#2a3f5f\", \"gridcolor\": \"white\", \"linecolor\": \"white\", \"minorgridcolor\": \"white\", \"startlinecolor\": \"#2a3f5f\"}, \"type\": \"carpet\"}], \"choropleth\": [{\"colorbar\": {\"outlinewidth\": 0, \"ticks\": \"\"}, \"type\": \"choropleth\"}], \"contour\": [{\"colorbar\": {\"outlinewidth\": 0, \"ticks\": \"\"}, \"colorscale\": [[0.0, \"#0d0887\"], [0.1111111111111111, \"#46039f\"], [0.2222222222222222, \"#7201a8\"], [0.3333333333333333, \"#9c179e\"], [0.4444444444444444, \"#bd3786\"], [0.5555555555555556, \"#d8576b\"], [0.6666666666666666, \"#ed7953\"], [0.7777777777777778, \"#fb9f3a\"], [0.8888888888888888, \"#fdca26\"], [1.0, \"#f0f921\"]], \"type\": \"contour\"}], \"contourcarpet\": [{\"colorbar\": {\"outlinewidth\": 0, \"ticks\": \"\"}, \"type\": \"contourcarpet\"}], \"heatmap\": [{\"colorbar\": {\"outlinewidth\": 0, \"ticks\": \"\"}, \"colorscale\": [[0.0, \"#0d0887\"], [0.1111111111111111, \"#46039f\"], [0.2222222222222222, \"#7201a8\"], [0.3333333333333333, \"#9c179e\"], [0.4444444444444444, \"#bd3786\"], [0.5555555555555556, \"#d8576b\"], [0.6666666666666666, \"#ed7953\"], [0.7777777777777778, \"#fb9f3a\"], [0.8888888888888888, \"#fdca26\"], [1.0, \"#f0f921\"]], \"type\": \"heatmap\"}], \"heatmapgl\": [{\"colorbar\": {\"outlinewidth\": 0, \"ticks\": \"\"}, \"colorscale\": [[0.0, \"#0d0887\"], [0.1111111111111111, \"#46039f\"], [0.2222222222222222, \"#7201a8\"], [0.3333333333333333, \"#9c179e\"], [0.4444444444444444, \"#bd3786\"], [0.5555555555555556, \"#d8576b\"], [0.6666666666666666, \"#ed7953\"], [0.7777777777777778, \"#fb9f3a\"], [0.8888888888888888, \"#fdca26\"], [1.0, \"#f0f921\"]], \"type\": \"heatmapgl\"}], \"histogram\": [{\"marker\": {\"colorbar\": {\"outlinewidth\": 0, \"ticks\": \"\"}}, \"type\": \"histogram\"}], \"histogram2d\": [{\"colorbar\": {\"outlinewidth\": 0, \"ticks\": \"\"}, \"colorscale\": [[0.0, \"#0d0887\"], [0.1111111111111111, \"#46039f\"], [0.2222222222222222, \"#7201a8\"], [0.3333333333333333, \"#9c179e\"], [0.4444444444444444, \"#bd3786\"], [0.5555555555555556, \"#d8576b\"], [0.6666666666666666, \"#ed7953\"], [0.7777777777777778, \"#fb9f3a\"], [0.8888888888888888, \"#fdca26\"], [1.0, \"#f0f921\"]], \"type\": \"histogram2d\"}], \"histogram2dcontour\": [{\"colorbar\": {\"outlinewidth\": 0, \"ticks\": \"\"}, \"colorscale\": [[0.0, \"#0d0887\"], [0.1111111111111111, \"#46039f\"], [0.2222222222222222, \"#7201a8\"], [0.3333333333333333, \"#9c179e\"], [0.4444444444444444, \"#bd3786\"], [0.5555555555555556, \"#d8576b\"], [0.6666666666666666, \"#ed7953\"], [0.7777777777777778, \"#fb9f3a\"], [0.8888888888888888, \"#fdca26\"], [1.0, \"#f0f921\"]], \"type\": \"histogram2dcontour\"}], \"mesh3d\": [{\"colorbar\": {\"outlinewidth\": 0, \"ticks\": \"\"}, \"type\": \"mesh3d\"}], \"parcoords\": [{\"line\": {\"colorbar\": {\"outlinewidth\": 0, \"ticks\": \"\"}}, \"type\": \"parcoords\"}], \"pie\": [{\"automargin\": true, \"type\": \"pie\"}], \"scatter\": [{\"marker\": {\"colorbar\": {\"outlinewidth\": 0, \"ticks\": \"\"}}, \"type\": \"scatter\"}], \"scatter3d\": [{\"line\": {\"colorbar\": {\"outlinewidth\": 0, \"ticks\": \"\"}}, \"marker\": {\"colorbar\": {\"outlinewidth\": 0, \"ticks\": \"\"}}, \"type\": \"scatter3d\"}], \"scattercarpet\": [{\"marker\": {\"colorbar\": {\"outlinewidth\": 0, \"ticks\": \"\"}}, \"type\": \"scattercarpet\"}], \"scattergeo\": [{\"marker\": {\"colorbar\": {\"outlinewidth\": 0, \"ticks\": \"\"}}, \"type\": \"scattergeo\"}], \"scattergl\": [{\"marker\": {\"colorbar\": {\"outlinewidth\": 0, \"ticks\": \"\"}}, \"type\": \"scattergl\"}], \"scattermapbox\": [{\"marker\": {\"colorbar\": {\"outlinewidth\": 0, \"ticks\": \"\"}}, \"type\": \"scattermapbox\"}], \"scatterpolar\": [{\"marker\": {\"colorbar\": {\"outlinewidth\": 0, \"ticks\": \"\"}}, \"type\": \"scatterpolar\"}], \"scatterpolargl\": [{\"marker\": {\"colorbar\": {\"outlinewidth\": 0, \"ticks\": \"\"}}, \"type\": \"scatterpolargl\"}], \"scatterternary\": [{\"marker\": {\"colorbar\": {\"outlinewidth\": 0, \"ticks\": \"\"}}, \"type\": \"scatterternary\"}], \"surface\": [{\"colorbar\": {\"outlinewidth\": 0, \"ticks\": \"\"}, \"colorscale\": [[0.0, \"#0d0887\"], [0.1111111111111111, \"#46039f\"], [0.2222222222222222, \"#7201a8\"], [0.3333333333333333, \"#9c179e\"], [0.4444444444444444, \"#bd3786\"], [0.5555555555555556, \"#d8576b\"], [0.6666666666666666, \"#ed7953\"], [0.7777777777777778, \"#fb9f3a\"], [0.8888888888888888, \"#fdca26\"], [1.0, \"#f0f921\"]], \"type\": \"surface\"}], \"table\": [{\"cells\": {\"fill\": {\"color\": \"#EBF0F8\"}, \"line\": {\"color\": \"white\"}}, \"header\": {\"fill\": {\"color\": \"#C8D4E3\"}, \"line\": {\"color\": \"white\"}}, \"type\": \"table\"}]}, \"layout\": {\"annotationdefaults\": {\"arrowcolor\": \"#2a3f5f\", \"arrowhead\": 0, \"arrowwidth\": 1}, \"coloraxis\": {\"colorbar\": {\"outlinewidth\": 0, \"ticks\": \"\"}}, \"colorscale\": {\"diverging\": [[0, \"#8e0152\"], [0.1, \"#c51b7d\"], [0.2, \"#de77ae\"], [0.3, \"#f1b6da\"], [0.4, \"#fde0ef\"], [0.5, \"#f7f7f7\"], [0.6, \"#e6f5d0\"], [0.7, \"#b8e186\"], [0.8, \"#7fbc41\"], [0.9, \"#4d9221\"], [1, \"#276419\"]], \"sequential\": [[0.0, \"#0d0887\"], [0.1111111111111111, \"#46039f\"], [0.2222222222222222, \"#7201a8\"], [0.3333333333333333, \"#9c179e\"], [0.4444444444444444, \"#bd3786\"], [0.5555555555555556, \"#d8576b\"], [0.6666666666666666, \"#ed7953\"], [0.7777777777777778, \"#fb9f3a\"], [0.8888888888888888, \"#fdca26\"], [1.0, \"#f0f921\"]], \"sequentialminus\": [[0.0, \"#0d0887\"], [0.1111111111111111, \"#46039f\"], [0.2222222222222222, \"#7201a8\"], [0.3333333333333333, \"#9c179e\"], [0.4444444444444444, \"#bd3786\"], [0.5555555555555556, \"#d8576b\"], [0.6666666666666666, \"#ed7953\"], [0.7777777777777778, \"#fb9f3a\"], [0.8888888888888888, \"#fdca26\"], [1.0, \"#f0f921\"]]}, \"colorway\": [\"#636efa\", \"#EF553B\", \"#00cc96\", \"#ab63fa\", \"#FFA15A\", \"#19d3f3\", \"#FF6692\", \"#B6E880\", \"#FF97FF\", \"#FECB52\"], \"font\": {\"color\": \"#2a3f5f\"}, \"geo\": {\"bgcolor\": \"white\", \"lakecolor\": \"white\", \"landcolor\": \"#E5ECF6\", \"showlakes\": true, \"showland\": true, \"subunitcolor\": \"white\"}, \"hoverlabel\": {\"align\": \"left\"}, \"hovermode\": \"closest\", \"mapbox\": {\"style\": \"light\"}, \"paper_bgcolor\": \"white\", \"plot_bgcolor\": \"#E5ECF6\", \"polar\": {\"angularaxis\": {\"gridcolor\": \"white\", \"linecolor\": \"white\", \"ticks\": \"\"}, \"bgcolor\": \"#E5ECF6\", \"radialaxis\": {\"gridcolor\": \"white\", \"linecolor\": \"white\", \"ticks\": \"\"}}, \"scene\": {\"xaxis\": {\"backgroundcolor\": \"#E5ECF6\", \"gridcolor\": \"white\", \"gridwidth\": 2, \"linecolor\": \"white\", \"showbackground\": true, \"ticks\": \"\", \"zerolinecolor\": \"white\"}, \"yaxis\": {\"backgroundcolor\": \"#E5ECF6\", \"gridcolor\": \"white\", \"gridwidth\": 2, \"linecolor\": \"white\", \"showbackground\": true, \"ticks\": \"\", \"zerolinecolor\": \"white\"}, \"zaxis\": {\"backgroundcolor\": \"#E5ECF6\", \"gridcolor\": \"white\", \"gridwidth\": 2, \"linecolor\": \"white\", \"showbackground\": true, \"ticks\": \"\", \"zerolinecolor\": \"white\"}}, \"shapedefaults\": {\"line\": {\"color\": \"#2a3f5f\"}}, \"ternary\": {\"aaxis\": {\"gridcolor\": \"white\", \"linecolor\": \"white\", \"ticks\": \"\"}, \"baxis\": {\"gridcolor\": \"white\", \"linecolor\": \"white\", \"ticks\": \"\"}, \"bgcolor\": \"#E5ECF6\", \"caxis\": {\"gridcolor\": \"white\", \"linecolor\": \"white\", \"ticks\": \"\"}}, \"title\": {\"x\": 0.05}, \"xaxis\": {\"automargin\": true, \"gridcolor\": \"white\", \"linecolor\": \"white\", \"ticks\": \"\", \"title\": {\"standoff\": 15}, \"zerolinecolor\": \"white\", \"zerolinewidth\": 2}, \"yaxis\": {\"automargin\": true, \"gridcolor\": \"white\", \"linecolor\": \"white\", \"ticks\": \"\", \"title\": {\"standoff\": 15}, \"zerolinecolor\": \"white\", \"zerolinewidth\": 2}}}, \"title\": {\"text\": \"Sales of liquor per Month\"}, \"xaxis\": {\"anchor\": \"y\", \"domain\": [0.0, 1.0], \"title\": {\"text\": \" Month Number\"}}, \"yaxis\": {\"anchor\": \"x\", \"domain\": [0.0, 1.0], \"title\": {\"text\": \"Sales, dollars\"}}},\n",
              "                        {\"responsive\": true}\n",
              "                    ).then(function(){\n",
              "                            \n",
              "var gd = document.getElementById('8f3523c1-a492-41d2-bde6-95863fec58ec');\n",
              "var x = new MutationObserver(function (mutations, observer) {{\n",
              "        var display = window.getComputedStyle(gd).display;\n",
              "        if (!display || display === 'none') {{\n",
              "            console.log([gd, 'removed!']);\n",
              "            Plotly.purge(gd);\n",
              "            observer.disconnect();\n",
              "        }}\n",
              "}});\n",
              "\n",
              "// Listen for the removal of the full notebook cells\n",
              "var notebookContainer = gd.closest('#notebook-container');\n",
              "if (notebookContainer) {{\n",
              "    x.observe(notebookContainer, {childList: true});\n",
              "}}\n",
              "\n",
              "// Listen for the clearing of the current output cell\n",
              "var outputEl = gd.closest('.output');\n",
              "if (outputEl) {{\n",
              "    x.observe(outputEl, {childList: true});\n",
              "}}\n",
              "\n",
              "                        })\n",
              "                };\n",
              "                \n",
              "            </script>\n",
              "        </div>\n",
              "</body>\n",
              "</html>"
            ]
          },
          "metadata": {
            "tags": []
          }
        }
      ]
    },
    {
      "cell_type": "markdown",
      "metadata": {
        "id": "gdaZJIA-yZaW"
      },
      "source": [
        "From the above plot it is cleared that the September month has highest number of sales of liquors"
      ]
    },
    {
      "cell_type": "markdown",
      "metadata": {
        "id": "BRH3WFUgykbH"
      },
      "source": [
        "**Daily sales**"
      ]
    },
    {
      "cell_type": "code",
      "metadata": {
        "id": "57K8-4qwp_Fr",
        "outputId": "2c454025-3da1-4424-a20e-7d5067e1b2a7",
        "colab": {
          "base_uri": "https://localhost:8080/",
          "height": 542
        }
      },
      "source": [
        "daily_sales = test_task_data.groupby('date', as_index=False)['sale_dollars'].sum()\n",
        "daily_sales_sc = go.Scatter(x=daily_sales['date'], y=daily_sales['sale_dollars'])\n",
        "layout = go.Layout(title='Daily sales', xaxis=dict(title='Date'), yaxis=dict(title='Sales'))\n",
        "fig = go.Figure(data=[daily_sales_sc], layout=layout)\n",
        "iplot(fig)"
      ],
      "execution_count": 18,
      "outputs": [
        {
          "output_type": "display_data",
          "data": {
            "text/html": [
              "<html>\n",
              "<head><meta charset=\"utf-8\" /></head>\n",
              "<body>\n",
              "    <div>\n",
              "            <script src=\"https://cdnjs.cloudflare.com/ajax/libs/mathjax/2.7.5/MathJax.js?config=TeX-AMS-MML_SVG\"></script><script type=\"text/javascript\">if (window.MathJax) {MathJax.Hub.Config({SVG: {font: \"STIX-Web\"}});}</script>\n",
              "                <script type=\"text/javascript\">window.PlotlyConfig = {MathJaxConfig: 'local'};</script>\n",
              "        <script src=\"https://cdn.plot.ly/plotly-latest.min.js\"></script>    \n",
              "            <div id=\"2431cd25-6690-4bf7-8b79-f14c82a0d018\" class=\"plotly-graph-div\" style=\"height:525px; width:100%;\"></div>\n",
              "            <script type=\"text/javascript\">\n",
              "                \n",
              "                    window.PLOTLYENV=window.PLOTLYENV || {};\n",
              "                    \n",
              "                if (document.getElementById(\"2431cd25-6690-4bf7-8b79-f14c82a0d018\")) {\n",
              "                    Plotly.newPlot(\n",
              "                        '2431cd25-6690-4bf7-8b79-f14c82a0d018',\n",
              "                        [{\"type\": \"scatter\", \"x\": [\"2020-01-02T00:00:00\", \"2020-01-03T00:00:00\", \"2020-01-06T00:00:00\", \"2020-01-07T00:00:00\", \"2020-01-08T00:00:00\", \"2020-01-09T00:00:00\", \"2020-01-10T00:00:00\", \"2020-01-13T00:00:00\", \"2020-01-14T00:00:00\", \"2020-01-15T00:00:00\", \"2020-01-16T00:00:00\", \"2020-01-17T00:00:00\", \"2020-01-20T00:00:00\", \"2020-01-21T00:00:00\", \"2020-01-22T00:00:00\", \"2020-01-23T00:00:00\", \"2020-01-24T00:00:00\", \"2020-01-27T00:00:00\", \"2020-01-28T00:00:00\", \"2020-01-29T00:00:00\", \"2020-01-30T00:00:00\", \"2020-01-31T00:00:00\", \"2020-02-03T00:00:00\", \"2020-02-04T00:00:00\", \"2020-02-05T00:00:00\", \"2020-02-06T00:00:00\", \"2020-02-07T00:00:00\", \"2020-02-10T00:00:00\", \"2020-02-11T00:00:00\", \"2020-02-12T00:00:00\", \"2020-02-13T00:00:00\", \"2020-02-14T00:00:00\", \"2020-02-17T00:00:00\", \"2020-02-18T00:00:00\", \"2020-02-19T00:00:00\", \"2020-02-20T00:00:00\", \"2020-02-21T00:00:00\", \"2020-02-24T00:00:00\", \"2020-02-25T00:00:00\", \"2020-02-26T00:00:00\", \"2020-02-27T00:00:00\", \"2020-02-28T00:00:00\", \"2020-03-02T00:00:00\", \"2020-03-03T00:00:00\", \"2020-03-04T00:00:00\", \"2020-03-05T00:00:00\", \"2020-03-06T00:00:00\", \"2020-03-09T00:00:00\", \"2020-03-10T00:00:00\", \"2020-03-11T00:00:00\", \"2020-03-12T00:00:00\", \"2020-03-13T00:00:00\", \"2020-03-16T00:00:00\", \"2020-03-17T00:00:00\", \"2020-03-18T00:00:00\", \"2020-03-19T00:00:00\", \"2020-03-20T00:00:00\", \"2020-03-23T00:00:00\", \"2020-03-24T00:00:00\", \"2020-03-25T00:00:00\", \"2020-03-26T00:00:00\", \"2020-03-27T00:00:00\", \"2020-03-30T00:00:00\", \"2020-03-31T00:00:00\", \"2020-04-01T00:00:00\", \"2020-04-02T00:00:00\", \"2020-04-03T00:00:00\", \"2020-04-06T00:00:00\", \"2020-04-07T00:00:00\", \"2020-04-08T00:00:00\", \"2020-04-09T00:00:00\", \"2020-04-10T00:00:00\", \"2020-04-13T00:00:00\", \"2020-04-14T00:00:00\", \"2020-04-15T00:00:00\", \"2020-04-16T00:00:00\", \"2020-04-17T00:00:00\", \"2020-04-20T00:00:00\", \"2020-04-21T00:00:00\", \"2020-04-22T00:00:00\", \"2020-04-23T00:00:00\", \"2020-04-24T00:00:00\", \"2020-04-27T00:00:00\", \"2020-04-28T00:00:00\", \"2020-04-29T00:00:00\", \"2020-04-30T00:00:00\", \"2020-05-01T00:00:00\", \"2020-05-04T00:00:00\", \"2020-05-05T00:00:00\", \"2020-05-06T00:00:00\", \"2020-05-07T00:00:00\", \"2020-05-08T00:00:00\", \"2020-05-11T00:00:00\", \"2020-05-12T00:00:00\", \"2020-05-13T00:00:00\", \"2020-05-14T00:00:00\", \"2020-05-15T00:00:00\", \"2020-05-18T00:00:00\", \"2020-05-19T00:00:00\", \"2020-05-20T00:00:00\", \"2020-05-21T00:00:00\", \"2020-05-22T00:00:00\", \"2020-05-26T00:00:00\", \"2020-05-27T00:00:00\", \"2020-05-28T00:00:00\", \"2020-05-29T00:00:00\", \"2020-06-01T00:00:00\", \"2020-06-02T00:00:00\", \"2020-06-03T00:00:00\", \"2020-06-04T00:00:00\", \"2020-06-05T00:00:00\", \"2020-06-08T00:00:00\", \"2020-06-09T00:00:00\", \"2020-06-10T00:00:00\", \"2020-06-11T00:00:00\", \"2020-06-12T00:00:00\", \"2020-06-15T00:00:00\", \"2020-06-16T00:00:00\", \"2020-06-17T00:00:00\", \"2020-06-18T00:00:00\", \"2020-06-19T00:00:00\", \"2020-06-22T00:00:00\", \"2020-06-23T00:00:00\", \"2020-06-24T00:00:00\", \"2020-06-25T00:00:00\", \"2020-06-26T00:00:00\", \"2020-06-29T00:00:00\", \"2020-06-30T00:00:00\", \"2020-07-01T00:00:00\", \"2020-07-02T00:00:00\", \"2020-07-03T00:00:00\", \"2020-07-06T00:00:00\", \"2020-07-07T00:00:00\", \"2020-07-08T00:00:00\", \"2020-07-09T00:00:00\", \"2020-07-10T00:00:00\", \"2020-07-13T00:00:00\", \"2020-07-14T00:00:00\", \"2020-07-15T00:00:00\", \"2020-07-16T00:00:00\", \"2020-07-17T00:00:00\", \"2020-07-20T00:00:00\", \"2020-07-21T00:00:00\", \"2020-07-22T00:00:00\", \"2020-07-23T00:00:00\", \"2020-07-24T00:00:00\", \"2020-07-26T00:00:00\", \"2020-07-27T00:00:00\", \"2020-07-28T00:00:00\", \"2020-07-29T00:00:00\", \"2020-07-30T00:00:00\", \"2020-07-31T00:00:00\", \"2020-08-03T00:00:00\", \"2020-08-04T00:00:00\", \"2020-08-05T00:00:00\", \"2020-08-06T00:00:00\", \"2020-08-07T00:00:00\", \"2020-08-10T00:00:00\", \"2020-08-11T00:00:00\", \"2020-08-12T00:00:00\", \"2020-08-13T00:00:00\", \"2020-08-14T00:00:00\", \"2020-08-17T00:00:00\", \"2020-08-18T00:00:00\", \"2020-08-19T00:00:00\", \"2020-08-20T00:00:00\", \"2020-08-21T00:00:00\", \"2020-08-24T00:00:00\", \"2020-08-25T00:00:00\", \"2020-08-26T00:00:00\", \"2020-08-27T00:00:00\", \"2020-08-28T00:00:00\", \"2020-08-30T00:00:00\", \"2020-08-31T00:00:00\", \"2020-09-01T00:00:00\", \"2020-09-02T00:00:00\", \"2020-09-03T00:00:00\", \"2020-09-04T00:00:00\", \"2020-09-08T00:00:00\", \"2020-09-09T00:00:00\", \"2020-09-10T00:00:00\", \"2020-09-11T00:00:00\", \"2020-09-14T00:00:00\", \"2020-09-15T00:00:00\", \"2020-09-16T00:00:00\", \"2020-09-17T00:00:00\", \"2020-09-18T00:00:00\", \"2020-09-21T00:00:00\", \"2020-09-22T00:00:00\", \"2020-09-23T00:00:00\", \"2020-09-24T00:00:00\", \"2020-09-25T00:00:00\", \"2020-09-28T00:00:00\", \"2020-09-29T00:00:00\", \"2020-09-30T00:00:00\"], \"y\": [1147958.950000004, 1511079.810000001, 1120370.970000003, 1231694.3899999992, 959017.8400000079, 897305.760000003, 869211.9700000043, 1082880.0400000075, 839429.6800000047, 945022.9800000046, 823305.1700000014, 913957.0400000056, 1100347.5400000094, 1038045.2400000073, 1120261.710000001, 919155.1400000036, 1071334.7600000086, 1209434.6900000034, 1046300.1100000002, 945826.3800000049, 976554.0300000024, 945919.1200000036, 1343524.8699999899, 1423927.1399999917, 1123700.7300000011, 1129191.3500000034, 1093901.9300000044, 1230889.5300000068, 1171147.079999998, 1245185.0399999968, 894723.31, 960611.4800000023, 1172919.6199999992, 1183352.0399999972, 1425629.4599999976, 1118052.2099999983, 1152054.1600000022, 1298804.1599999976, 1452104.8499999882, 1118445.7699999982, 1020811.0900000004, 1095404.6799999992, 1281736.4700000016, 1277196.3199999938, 1297057.600000002, 1087757.5900000022, 1239765.5600000005, 1498779.8299999977, 1420819.3699999987, 1308014.0999999985, 1073036.130000003, 1208299.350000007, 1491002.8299999933, 1321348.4999999928, 1322013.2999999942, 1005820.6700000009, 1420773.6999999916, 1376260.4099999901, 1466916.7599999835, 1605666.1199999957, 1045467.4299999997, 1310556.3099999998, 1171063.5299999993, 1332203.2099999916, 1041888.6900000003, 786260.1800000009, 1384122.7099999944, 1237282.1599999983, 1689925.4599999879, 1475844.719999993, 1044998.4300000021, 1576195.4699999904, 1462133.2399999888, 1754983.99999998, 1037191.5600000015, 897309.479999999, 1376046.0699999966, 1313231.349999995, 1520272.6799999962, 1205974.080000001, 939691.289999999, 1564286.3599999857, 1486198.839999993, 1681203.9599999855, 1429197.5599999975, 1116321.8399999987, 1339909.8199999933, 1502395.879999987, 1760841.0699999814, 1371154.9199999995, 1148769.0099999993, 1519440.0699999903, 1424053.749999989, 1723743.6699999867, 1254246.4399999974, 1175314.8799999985, 1533228.5599999914, 1520088.6299999878, 1624393.3599999852, 1255298.889999996, 973690.7500000015, 1310112.299999997, 1469699.35, 1540204.5399999972, 1734762.9099999897, 2023314.4899999783, 1539362.449999994, 1778106.7399999932, 1293298.330000001, 1237792.5899999985, 1402734.970000003, 1554670.7499999946, 1659337.1199999906, 1304639.369999991, 1060471.0400000042, 1359778.8499999954, 1534702.4099999978, 1714354.0899999957, 1480416.7199999997, 1120114.71, 1467172.7099999983, 1767611.8399999875, 1707870.399999985, 1602970.1299999892, 1449201.579999995, 1557995.7699999956, 1691824.4499999897, 1904882.7699999916, 1635872.6499999962, 1354284.9699999974, 1378088.5800000068, 1439261.5900000064, 1496474.7099999976, 1431103.1299999976, 1079585.7100000049, 1228115.7600000007, 1423885.8799999994, 1503925.7799999893, 1409465.5799999947, 1094003.2400000019, 1236968.8900000046, 1410166.929999996, 1494007.6899999974, 1284902.910000004, 995475.0400000022, 1277962.5100000047, 911.89, 1402463.520000006, 1705680.37999999, 1548187.219999995, 1335111.1699999976, 1266798.7699999954, 1373188.76, 1638515.8099999973, 1424205.740000001, 1201624.7499999998, 1407998.789999997, 1531131.5899999887, 1294632.8000000047, 1584384.6599999925, 1255896.9100000022, 1278171.5100000007, 1421661.5599999968, 1786990.7199999986, 1348261.84, 1340524.9700000016, 1443626.350000001, 1549475.4900000005, 1974530.1299999868, 1815139.2599999954, 1285428.7599999988, 1633283.1799999943, 3836.16, 1528480.0699999977, 1651455.6699999985, 1450666.7100000004, 1242631.0099999977, 1479582.7899999963, 1626958.4600000032, 1897725.9299999983, 1595803.9999999944, 1738322.1499999878, 1544970.429999998, 1570375.4899999965, 1280246.4699999928, 1169717.040000001, 1671221.939999994, 1519189.519999996, 1969061.9899999865, 1994305.7699999947, 1486539.1799999957, 1438812.4199999915, 1632754.9299999936, 2283823.819999996, 1223756.9199999983]}],\n",
              "                        {\"template\": {\"data\": {\"bar\": [{\"error_x\": {\"color\": \"#2a3f5f\"}, \"error_y\": {\"color\": \"#2a3f5f\"}, \"marker\": {\"line\": {\"color\": \"#E5ECF6\", \"width\": 0.5}}, \"type\": \"bar\"}], \"barpolar\": [{\"marker\": {\"line\": {\"color\": \"#E5ECF6\", \"width\": 0.5}}, \"type\": \"barpolar\"}], \"carpet\": [{\"aaxis\": {\"endlinecolor\": \"#2a3f5f\", \"gridcolor\": \"white\", \"linecolor\": \"white\", \"minorgridcolor\": \"white\", \"startlinecolor\": \"#2a3f5f\"}, \"baxis\": {\"endlinecolor\": \"#2a3f5f\", \"gridcolor\": \"white\", \"linecolor\": \"white\", \"minorgridcolor\": \"white\", \"startlinecolor\": \"#2a3f5f\"}, \"type\": \"carpet\"}], \"choropleth\": [{\"colorbar\": {\"outlinewidth\": 0, \"ticks\": \"\"}, \"type\": \"choropleth\"}], \"contour\": [{\"colorbar\": {\"outlinewidth\": 0, \"ticks\": \"\"}, \"colorscale\": [[0.0, \"#0d0887\"], [0.1111111111111111, \"#46039f\"], [0.2222222222222222, \"#7201a8\"], [0.3333333333333333, \"#9c179e\"], [0.4444444444444444, \"#bd3786\"], [0.5555555555555556, \"#d8576b\"], [0.6666666666666666, \"#ed7953\"], [0.7777777777777778, \"#fb9f3a\"], [0.8888888888888888, \"#fdca26\"], [1.0, \"#f0f921\"]], \"type\": \"contour\"}], \"contourcarpet\": [{\"colorbar\": {\"outlinewidth\": 0, \"ticks\": \"\"}, \"type\": \"contourcarpet\"}], \"heatmap\": [{\"colorbar\": {\"outlinewidth\": 0, \"ticks\": \"\"}, \"colorscale\": [[0.0, \"#0d0887\"], [0.1111111111111111, \"#46039f\"], [0.2222222222222222, \"#7201a8\"], [0.3333333333333333, \"#9c179e\"], [0.4444444444444444, \"#bd3786\"], [0.5555555555555556, \"#d8576b\"], [0.6666666666666666, \"#ed7953\"], [0.7777777777777778, \"#fb9f3a\"], [0.8888888888888888, \"#fdca26\"], [1.0, \"#f0f921\"]], \"type\": \"heatmap\"}], \"heatmapgl\": [{\"colorbar\": {\"outlinewidth\": 0, \"ticks\": \"\"}, \"colorscale\": [[0.0, \"#0d0887\"], [0.1111111111111111, \"#46039f\"], [0.2222222222222222, \"#7201a8\"], [0.3333333333333333, \"#9c179e\"], [0.4444444444444444, \"#bd3786\"], [0.5555555555555556, \"#d8576b\"], [0.6666666666666666, \"#ed7953\"], [0.7777777777777778, \"#fb9f3a\"], [0.8888888888888888, \"#fdca26\"], [1.0, \"#f0f921\"]], \"type\": \"heatmapgl\"}], \"histogram\": [{\"marker\": {\"colorbar\": {\"outlinewidth\": 0, \"ticks\": \"\"}}, \"type\": \"histogram\"}], \"histogram2d\": [{\"colorbar\": {\"outlinewidth\": 0, \"ticks\": \"\"}, \"colorscale\": [[0.0, \"#0d0887\"], [0.1111111111111111, \"#46039f\"], [0.2222222222222222, \"#7201a8\"], [0.3333333333333333, \"#9c179e\"], [0.4444444444444444, \"#bd3786\"], [0.5555555555555556, \"#d8576b\"], [0.6666666666666666, \"#ed7953\"], [0.7777777777777778, \"#fb9f3a\"], [0.8888888888888888, \"#fdca26\"], [1.0, \"#f0f921\"]], \"type\": \"histogram2d\"}], \"histogram2dcontour\": [{\"colorbar\": {\"outlinewidth\": 0, \"ticks\": \"\"}, \"colorscale\": [[0.0, \"#0d0887\"], [0.1111111111111111, \"#46039f\"], [0.2222222222222222, \"#7201a8\"], [0.3333333333333333, \"#9c179e\"], [0.4444444444444444, \"#bd3786\"], [0.5555555555555556, \"#d8576b\"], [0.6666666666666666, \"#ed7953\"], [0.7777777777777778, \"#fb9f3a\"], [0.8888888888888888, \"#fdca26\"], [1.0, \"#f0f921\"]], \"type\": \"histogram2dcontour\"}], \"mesh3d\": [{\"colorbar\": {\"outlinewidth\": 0, \"ticks\": \"\"}, \"type\": \"mesh3d\"}], \"parcoords\": [{\"line\": {\"colorbar\": {\"outlinewidth\": 0, \"ticks\": \"\"}}, \"type\": \"parcoords\"}], \"pie\": [{\"automargin\": true, \"type\": \"pie\"}], \"scatter\": [{\"marker\": {\"colorbar\": {\"outlinewidth\": 0, \"ticks\": \"\"}}, \"type\": \"scatter\"}], \"scatter3d\": [{\"line\": {\"colorbar\": {\"outlinewidth\": 0, \"ticks\": \"\"}}, \"marker\": {\"colorbar\": {\"outlinewidth\": 0, \"ticks\": \"\"}}, \"type\": \"scatter3d\"}], \"scattercarpet\": [{\"marker\": {\"colorbar\": {\"outlinewidth\": 0, \"ticks\": \"\"}}, \"type\": \"scattercarpet\"}], \"scattergeo\": [{\"marker\": {\"colorbar\": {\"outlinewidth\": 0, \"ticks\": \"\"}}, \"type\": \"scattergeo\"}], \"scattergl\": [{\"marker\": {\"colorbar\": {\"outlinewidth\": 0, \"ticks\": \"\"}}, \"type\": \"scattergl\"}], \"scattermapbox\": [{\"marker\": {\"colorbar\": {\"outlinewidth\": 0, \"ticks\": \"\"}}, \"type\": \"scattermapbox\"}], \"scatterpolar\": [{\"marker\": {\"colorbar\": {\"outlinewidth\": 0, \"ticks\": \"\"}}, \"type\": \"scatterpolar\"}], \"scatterpolargl\": [{\"marker\": {\"colorbar\": {\"outlinewidth\": 0, \"ticks\": \"\"}}, \"type\": \"scatterpolargl\"}], \"scatterternary\": [{\"marker\": {\"colorbar\": {\"outlinewidth\": 0, \"ticks\": \"\"}}, \"type\": \"scatterternary\"}], \"surface\": [{\"colorbar\": {\"outlinewidth\": 0, \"ticks\": \"\"}, \"colorscale\": [[0.0, \"#0d0887\"], [0.1111111111111111, \"#46039f\"], [0.2222222222222222, \"#7201a8\"], [0.3333333333333333, \"#9c179e\"], [0.4444444444444444, \"#bd3786\"], [0.5555555555555556, \"#d8576b\"], [0.6666666666666666, \"#ed7953\"], [0.7777777777777778, \"#fb9f3a\"], [0.8888888888888888, \"#fdca26\"], [1.0, \"#f0f921\"]], \"type\": \"surface\"}], \"table\": [{\"cells\": {\"fill\": {\"color\": \"#EBF0F8\"}, \"line\": {\"color\": \"white\"}}, \"header\": {\"fill\": {\"color\": \"#C8D4E3\"}, \"line\": {\"color\": \"white\"}}, \"type\": \"table\"}]}, \"layout\": {\"annotationdefaults\": {\"arrowcolor\": \"#2a3f5f\", \"arrowhead\": 0, \"arrowwidth\": 1}, \"coloraxis\": {\"colorbar\": {\"outlinewidth\": 0, \"ticks\": \"\"}}, \"colorscale\": {\"diverging\": [[0, \"#8e0152\"], [0.1, \"#c51b7d\"], [0.2, \"#de77ae\"], [0.3, \"#f1b6da\"], [0.4, \"#fde0ef\"], [0.5, \"#f7f7f7\"], [0.6, \"#e6f5d0\"], [0.7, \"#b8e186\"], [0.8, \"#7fbc41\"], [0.9, \"#4d9221\"], [1, \"#276419\"]], \"sequential\": [[0.0, \"#0d0887\"], [0.1111111111111111, \"#46039f\"], [0.2222222222222222, \"#7201a8\"], [0.3333333333333333, \"#9c179e\"], [0.4444444444444444, \"#bd3786\"], [0.5555555555555556, \"#d8576b\"], [0.6666666666666666, \"#ed7953\"], [0.7777777777777778, \"#fb9f3a\"], [0.8888888888888888, \"#fdca26\"], [1.0, \"#f0f921\"]], \"sequentialminus\": [[0.0, \"#0d0887\"], [0.1111111111111111, \"#46039f\"], [0.2222222222222222, \"#7201a8\"], [0.3333333333333333, \"#9c179e\"], [0.4444444444444444, \"#bd3786\"], [0.5555555555555556, \"#d8576b\"], [0.6666666666666666, \"#ed7953\"], [0.7777777777777778, \"#fb9f3a\"], [0.8888888888888888, \"#fdca26\"], [1.0, \"#f0f921\"]]}, \"colorway\": [\"#636efa\", \"#EF553B\", \"#00cc96\", \"#ab63fa\", \"#FFA15A\", \"#19d3f3\", \"#FF6692\", \"#B6E880\", \"#FF97FF\", \"#FECB52\"], \"font\": {\"color\": \"#2a3f5f\"}, \"geo\": {\"bgcolor\": \"white\", \"lakecolor\": \"white\", \"landcolor\": \"#E5ECF6\", \"showlakes\": true, \"showland\": true, \"subunitcolor\": \"white\"}, \"hoverlabel\": {\"align\": \"left\"}, \"hovermode\": \"closest\", \"mapbox\": {\"style\": \"light\"}, \"paper_bgcolor\": \"white\", \"plot_bgcolor\": \"#E5ECF6\", \"polar\": {\"angularaxis\": {\"gridcolor\": \"white\", \"linecolor\": \"white\", \"ticks\": \"\"}, \"bgcolor\": \"#E5ECF6\", \"radialaxis\": {\"gridcolor\": \"white\", \"linecolor\": \"white\", \"ticks\": \"\"}}, \"scene\": {\"xaxis\": {\"backgroundcolor\": \"#E5ECF6\", \"gridcolor\": \"white\", \"gridwidth\": 2, \"linecolor\": \"white\", \"showbackground\": true, \"ticks\": \"\", \"zerolinecolor\": \"white\"}, \"yaxis\": {\"backgroundcolor\": \"#E5ECF6\", \"gridcolor\": \"white\", \"gridwidth\": 2, \"linecolor\": \"white\", \"showbackground\": true, \"ticks\": \"\", \"zerolinecolor\": \"white\"}, \"zaxis\": {\"backgroundcolor\": \"#E5ECF6\", \"gridcolor\": \"white\", \"gridwidth\": 2, \"linecolor\": \"white\", \"showbackground\": true, \"ticks\": \"\", \"zerolinecolor\": \"white\"}}, \"shapedefaults\": {\"line\": {\"color\": \"#2a3f5f\"}}, \"ternary\": {\"aaxis\": {\"gridcolor\": \"white\", \"linecolor\": \"white\", \"ticks\": \"\"}, \"baxis\": {\"gridcolor\": \"white\", \"linecolor\": \"white\", \"ticks\": \"\"}, \"bgcolor\": \"#E5ECF6\", \"caxis\": {\"gridcolor\": \"white\", \"linecolor\": \"white\", \"ticks\": \"\"}}, \"title\": {\"x\": 0.05}, \"xaxis\": {\"automargin\": true, \"gridcolor\": \"white\", \"linecolor\": \"white\", \"ticks\": \"\", \"title\": {\"standoff\": 15}, \"zerolinecolor\": \"white\", \"zerolinewidth\": 2}, \"yaxis\": {\"automargin\": true, \"gridcolor\": \"white\", \"linecolor\": \"white\", \"ticks\": \"\", \"title\": {\"standoff\": 15}, \"zerolinecolor\": \"white\", \"zerolinewidth\": 2}}}, \"title\": {\"text\": \"Daily sales\"}, \"xaxis\": {\"title\": {\"text\": \"Date\"}}, \"yaxis\": {\"title\": {\"text\": \"Sales\"}}},\n",
              "                        {\"responsive\": true}\n",
              "                    ).then(function(){\n",
              "                            \n",
              "var gd = document.getElementById('2431cd25-6690-4bf7-8b79-f14c82a0d018');\n",
              "var x = new MutationObserver(function (mutations, observer) {{\n",
              "        var display = window.getComputedStyle(gd).display;\n",
              "        if (!display || display === 'none') {{\n",
              "            console.log([gd, 'removed!']);\n",
              "            Plotly.purge(gd);\n",
              "            observer.disconnect();\n",
              "        }}\n",
              "}});\n",
              "\n",
              "// Listen for the removal of the full notebook cells\n",
              "var notebookContainer = gd.closest('#notebook-container');\n",
              "if (notebookContainer) {{\n",
              "    x.observe(notebookContainer, {childList: true});\n",
              "}}\n",
              "\n",
              "// Listen for the clearing of the current output cell\n",
              "var outputEl = gd.closest('.output');\n",
              "if (outputEl) {{\n",
              "    x.observe(outputEl, {childList: true});\n",
              "}}\n",
              "\n",
              "                        })\n",
              "                };\n",
              "                \n",
              "            </script>\n",
              "        </div>\n",
              "</body>\n",
              "</html>"
            ]
          },
          "metadata": {
            "tags": []
          }
        }
      ]
    },
    {
      "cell_type": "markdown",
      "metadata": {
        "id": "vA9R4Dsly8ku"
      },
      "source": [
        "The highest daily sales are observed on 29 Sep 2020(First Trump-Biden debates)"
      ]
    },
    {
      "cell_type": "markdown",
      "metadata": {
        "id": "DJarfj2PzVsr"
      },
      "source": [
        "**Sales of liquors with category and the volume of liquor sold**"
      ]
    },
    {
      "cell_type": "code",
      "metadata": {
        "id": "U3r2s1LgvVBV",
        "outputId": "799dfa4f-3a9a-4a24-f66b-883567d556ce",
        "colab": {
          "base_uri": "https://localhost:8080/",
          "height": 359
        }
      },
      "source": [
        "df_plot = test_task_data.groupby(['category_name','pack','date'])['sale_dollars'].sum().groupby(\n",
        "            ['category_name','pack']).max().sort_values().groupby(\n",
        "            ['category_name']).sum().sort_values(ascending=False)\n",
        "top_count1 = pd.DataFrame(df_plot)\n",
        "\n",
        "df_plot = test_task_data.groupby(['category_name','pack','date'])['volume_sold_liters'].sum().groupby(\n",
        "            ['category_name','pack']).max().sort_values().groupby(\n",
        "            ['category_name']).sum().sort_values(ascending=False)\n",
        "top_count2 = pd.DataFrame(df_plot)\n",
        "\n",
        "top_count = pd.concat([top_count1 , top_count2],axis=1)\n",
        "top_count = top_count.sort_values(['sale_dollars'],ascending=False)[:10]\n",
        "top_count"
      ],
      "execution_count": 19,
      "outputs": [
        {
          "output_type": "execute_result",
          "data": {
            "text/html": [
              "<div>\n",
              "<style scoped>\n",
              "    .dataframe tbody tr th:only-of-type {\n",
              "        vertical-align: middle;\n",
              "    }\n",
              "\n",
              "    .dataframe tbody tr th {\n",
              "        vertical-align: top;\n",
              "    }\n",
              "\n",
              "    .dataframe thead th {\n",
              "        text-align: right;\n",
              "    }\n",
              "</style>\n",
              "<table border=\"1\" class=\"dataframe\">\n",
              "  <thead>\n",
              "    <tr style=\"text-align: right;\">\n",
              "      <th></th>\n",
              "      <th>sale_dollars</th>\n",
              "      <th>volume_sold_liters</th>\n",
              "    </tr>\n",
              "  </thead>\n",
              "  <tbody>\n",
              "    <tr>\n",
              "      <th>American Vodkas</th>\n",
              "      <td>665640.27</td>\n",
              "      <td>52512.73</td>\n",
              "    </tr>\n",
              "    <tr>\n",
              "      <th>Canadian Whiskies</th>\n",
              "      <td>456244.56</td>\n",
              "      <td>37577.52</td>\n",
              "    </tr>\n",
              "    <tr>\n",
              "      <th>Imported Brandies</th>\n",
              "      <td>403643.71</td>\n",
              "      <td>8269.75</td>\n",
              "    </tr>\n",
              "    <tr>\n",
              "      <th>Straight Bourbon Whiskies</th>\n",
              "      <td>326422.01</td>\n",
              "      <td>10393.24</td>\n",
              "    </tr>\n",
              "    <tr>\n",
              "      <th>Spiced Rum</th>\n",
              "      <td>249269.31</td>\n",
              "      <td>16277.23</td>\n",
              "    </tr>\n",
              "    <tr>\n",
              "      <th>100% Agave Tequila</th>\n",
              "      <td>199388.13</td>\n",
              "      <td>8533.27</td>\n",
              "    </tr>\n",
              "    <tr>\n",
              "      <th>Temporary &amp; Specialty Packages</th>\n",
              "      <td>190692.82</td>\n",
              "      <td>7176.35</td>\n",
              "    </tr>\n",
              "    <tr>\n",
              "      <th>Whiskey Liqueur</th>\n",
              "      <td>188888.20</td>\n",
              "      <td>9525.15</td>\n",
              "    </tr>\n",
              "    <tr>\n",
              "      <th>Imported Vodkas</th>\n",
              "      <td>158407.96</td>\n",
              "      <td>10285.20</td>\n",
              "    </tr>\n",
              "    <tr>\n",
              "      <th>Tennessee Whiskies</th>\n",
              "      <td>152309.34</td>\n",
              "      <td>5247.17</td>\n",
              "    </tr>\n",
              "  </tbody>\n",
              "</table>\n",
              "</div>"
            ],
            "text/plain": [
              "                                sale_dollars  volume_sold_liters\n",
              "American Vodkas                    665640.27            52512.73\n",
              "Canadian Whiskies                  456244.56            37577.52\n",
              "Imported Brandies                  403643.71             8269.75\n",
              "Straight Bourbon Whiskies          326422.01            10393.24\n",
              "Spiced Rum                         249269.31            16277.23\n",
              "100% Agave Tequila                 199388.13             8533.27\n",
              "Temporary & Specialty Packages     190692.82             7176.35\n",
              "Whiskey Liqueur                    188888.20             9525.15\n",
              "Imported Vodkas                    158407.96            10285.20\n",
              "Tennessee Whiskies                 152309.34             5247.17"
            ]
          },
          "metadata": {
            "tags": []
          },
          "execution_count": 19
        }
      ]
    },
    {
      "cell_type": "code",
      "metadata": {
        "id": "Ks3aPzGkxIkM",
        "outputId": "6709297b-8c46-4a20-a2a6-f75f4c8eabe3",
        "colab": {
          "base_uri": "https://localhost:8080/",
          "height": 542
        }
      },
      "source": [
        "fig = go.Figure(data=[\n",
        "    go.Bar(name='sale in dollars',x=top_count.index, y=top_count['sale_dollars']),\n",
        "    go.Bar(name='Volume in litres',x=top_count.index, y=top_count['volume_sold_liters'])\n",
        "])\n",
        "\n",
        "fig.update_layout(barmode='group',title=\"Sales of liquors with category and the volume of liquor sold\",\n",
        "    xaxis_title=\"category\",\n",
        "    yaxis_title=\"Sale and the amount of liquor sold in litre\",)\n",
        "fig.show()"
      ],
      "execution_count": 20,
      "outputs": [
        {
          "output_type": "display_data",
          "data": {
            "text/html": [
              "<html>\n",
              "<head><meta charset=\"utf-8\" /></head>\n",
              "<body>\n",
              "    <div>\n",
              "            <script src=\"https://cdnjs.cloudflare.com/ajax/libs/mathjax/2.7.5/MathJax.js?config=TeX-AMS-MML_SVG\"></script><script type=\"text/javascript\">if (window.MathJax) {MathJax.Hub.Config({SVG: {font: \"STIX-Web\"}});}</script>\n",
              "                <script type=\"text/javascript\">window.PlotlyConfig = {MathJaxConfig: 'local'};</script>\n",
              "        <script src=\"https://cdn.plot.ly/plotly-latest.min.js\"></script>    \n",
              "            <div id=\"1b86464f-330f-4722-83f6-93e567f5bd74\" class=\"plotly-graph-div\" style=\"height:525px; width:100%;\"></div>\n",
              "            <script type=\"text/javascript\">\n",
              "                \n",
              "                    window.PLOTLYENV=window.PLOTLYENV || {};\n",
              "                    \n",
              "                if (document.getElementById(\"1b86464f-330f-4722-83f6-93e567f5bd74\")) {\n",
              "                    Plotly.newPlot(\n",
              "                        '1b86464f-330f-4722-83f6-93e567f5bd74',\n",
              "                        [{\"name\": \"sale in dollars\", \"type\": \"bar\", \"x\": [\"American Vodkas\", \"Canadian Whiskies\", \"Imported Brandies\", \"Straight Bourbon Whiskies\", \"Spiced Rum\", \"100% Agave Tequila\", \"Temporary & Specialty Packages\", \"Whiskey Liqueur\", \"Imported Vodkas\", \"Tennessee Whiskies\"], \"y\": [665640.2699999997, 456244.5599999996, 403643.71000000025, 326422.01, 249269.31000000017, 199388.13, 190692.8199999999, 188888.19999999998, 158407.95999999996, 152309.34000000008]}, {\"name\": \"Volume in litres\", \"type\": \"bar\", \"x\": [\"American Vodkas\", \"Canadian Whiskies\", \"Imported Brandies\", \"Straight Bourbon Whiskies\", \"Spiced Rum\", \"100% Agave Tequila\", \"Temporary & Specialty Packages\", \"Whiskey Liqueur\", \"Imported Vodkas\", \"Tennessee Whiskies\"], \"y\": [52512.72999999997, 37577.52, 8269.749999999998, 10393.239999999998, 16277.23, 8533.269999999999, 7176.35, 9525.149999999998, 10285.2, 5247.169999999999]}],\n",
              "                        {\"barmode\": \"group\", \"template\": {\"data\": {\"bar\": [{\"error_x\": {\"color\": \"#2a3f5f\"}, \"error_y\": {\"color\": \"#2a3f5f\"}, \"marker\": {\"line\": {\"color\": \"#E5ECF6\", \"width\": 0.5}}, \"type\": \"bar\"}], \"barpolar\": [{\"marker\": {\"line\": {\"color\": \"#E5ECF6\", \"width\": 0.5}}, \"type\": \"barpolar\"}], \"carpet\": [{\"aaxis\": {\"endlinecolor\": \"#2a3f5f\", \"gridcolor\": \"white\", \"linecolor\": \"white\", \"minorgridcolor\": \"white\", \"startlinecolor\": \"#2a3f5f\"}, \"baxis\": {\"endlinecolor\": \"#2a3f5f\", \"gridcolor\": \"white\", \"linecolor\": \"white\", \"minorgridcolor\": \"white\", \"startlinecolor\": \"#2a3f5f\"}, \"type\": \"carpet\"}], \"choropleth\": [{\"colorbar\": {\"outlinewidth\": 0, \"ticks\": \"\"}, \"type\": \"choropleth\"}], \"contour\": [{\"colorbar\": {\"outlinewidth\": 0, \"ticks\": \"\"}, \"colorscale\": [[0.0, \"#0d0887\"], [0.1111111111111111, \"#46039f\"], [0.2222222222222222, \"#7201a8\"], [0.3333333333333333, \"#9c179e\"], [0.4444444444444444, \"#bd3786\"], [0.5555555555555556, \"#d8576b\"], [0.6666666666666666, \"#ed7953\"], [0.7777777777777778, \"#fb9f3a\"], [0.8888888888888888, \"#fdca26\"], [1.0, \"#f0f921\"]], \"type\": \"contour\"}], \"contourcarpet\": [{\"colorbar\": {\"outlinewidth\": 0, \"ticks\": \"\"}, \"type\": \"contourcarpet\"}], \"heatmap\": [{\"colorbar\": {\"outlinewidth\": 0, \"ticks\": \"\"}, \"colorscale\": [[0.0, \"#0d0887\"], [0.1111111111111111, \"#46039f\"], [0.2222222222222222, \"#7201a8\"], [0.3333333333333333, \"#9c179e\"], [0.4444444444444444, \"#bd3786\"], [0.5555555555555556, \"#d8576b\"], [0.6666666666666666, \"#ed7953\"], [0.7777777777777778, \"#fb9f3a\"], [0.8888888888888888, \"#fdca26\"], [1.0, \"#f0f921\"]], \"type\": \"heatmap\"}], \"heatmapgl\": [{\"colorbar\": {\"outlinewidth\": 0, \"ticks\": \"\"}, \"colorscale\": [[0.0, \"#0d0887\"], [0.1111111111111111, \"#46039f\"], [0.2222222222222222, \"#7201a8\"], [0.3333333333333333, \"#9c179e\"], [0.4444444444444444, \"#bd3786\"], [0.5555555555555556, \"#d8576b\"], [0.6666666666666666, \"#ed7953\"], [0.7777777777777778, \"#fb9f3a\"], [0.8888888888888888, \"#fdca26\"], [1.0, \"#f0f921\"]], \"type\": \"heatmapgl\"}], \"histogram\": [{\"marker\": {\"colorbar\": {\"outlinewidth\": 0, \"ticks\": \"\"}}, \"type\": \"histogram\"}], \"histogram2d\": [{\"colorbar\": {\"outlinewidth\": 0, \"ticks\": \"\"}, \"colorscale\": [[0.0, \"#0d0887\"], [0.1111111111111111, \"#46039f\"], [0.2222222222222222, \"#7201a8\"], [0.3333333333333333, \"#9c179e\"], [0.4444444444444444, \"#bd3786\"], [0.5555555555555556, \"#d8576b\"], [0.6666666666666666, \"#ed7953\"], [0.7777777777777778, \"#fb9f3a\"], [0.8888888888888888, \"#fdca26\"], [1.0, \"#f0f921\"]], \"type\": \"histogram2d\"}], \"histogram2dcontour\": [{\"colorbar\": {\"outlinewidth\": 0, \"ticks\": \"\"}, \"colorscale\": [[0.0, \"#0d0887\"], [0.1111111111111111, \"#46039f\"], [0.2222222222222222, \"#7201a8\"], [0.3333333333333333, \"#9c179e\"], [0.4444444444444444, \"#bd3786\"], [0.5555555555555556, \"#d8576b\"], [0.6666666666666666, \"#ed7953\"], [0.7777777777777778, \"#fb9f3a\"], [0.8888888888888888, \"#fdca26\"], [1.0, \"#f0f921\"]], \"type\": \"histogram2dcontour\"}], \"mesh3d\": [{\"colorbar\": {\"outlinewidth\": 0, \"ticks\": \"\"}, \"type\": \"mesh3d\"}], \"parcoords\": [{\"line\": {\"colorbar\": {\"outlinewidth\": 0, \"ticks\": \"\"}}, \"type\": \"parcoords\"}], \"pie\": [{\"automargin\": true, \"type\": \"pie\"}], \"scatter\": [{\"marker\": {\"colorbar\": {\"outlinewidth\": 0, \"ticks\": \"\"}}, \"type\": \"scatter\"}], \"scatter3d\": [{\"line\": {\"colorbar\": {\"outlinewidth\": 0, \"ticks\": \"\"}}, \"marker\": {\"colorbar\": {\"outlinewidth\": 0, \"ticks\": \"\"}}, \"type\": \"scatter3d\"}], \"scattercarpet\": [{\"marker\": {\"colorbar\": {\"outlinewidth\": 0, \"ticks\": \"\"}}, \"type\": \"scattercarpet\"}], \"scattergeo\": [{\"marker\": {\"colorbar\": {\"outlinewidth\": 0, \"ticks\": \"\"}}, \"type\": \"scattergeo\"}], \"scattergl\": [{\"marker\": {\"colorbar\": {\"outlinewidth\": 0, \"ticks\": \"\"}}, \"type\": \"scattergl\"}], \"scattermapbox\": [{\"marker\": {\"colorbar\": {\"outlinewidth\": 0, \"ticks\": \"\"}}, \"type\": \"scattermapbox\"}], \"scatterpolar\": [{\"marker\": {\"colorbar\": {\"outlinewidth\": 0, \"ticks\": \"\"}}, \"type\": \"scatterpolar\"}], \"scatterpolargl\": [{\"marker\": {\"colorbar\": {\"outlinewidth\": 0, \"ticks\": \"\"}}, \"type\": \"scatterpolargl\"}], \"scatterternary\": [{\"marker\": {\"colorbar\": {\"outlinewidth\": 0, \"ticks\": \"\"}}, \"type\": \"scatterternary\"}], \"surface\": [{\"colorbar\": {\"outlinewidth\": 0, \"ticks\": \"\"}, \"colorscale\": [[0.0, \"#0d0887\"], [0.1111111111111111, \"#46039f\"], [0.2222222222222222, \"#7201a8\"], [0.3333333333333333, \"#9c179e\"], [0.4444444444444444, \"#bd3786\"], [0.5555555555555556, \"#d8576b\"], [0.6666666666666666, \"#ed7953\"], [0.7777777777777778, \"#fb9f3a\"], [0.8888888888888888, \"#fdca26\"], [1.0, \"#f0f921\"]], \"type\": \"surface\"}], \"table\": [{\"cells\": {\"fill\": {\"color\": \"#EBF0F8\"}, \"line\": {\"color\": \"white\"}}, \"header\": {\"fill\": {\"color\": \"#C8D4E3\"}, \"line\": {\"color\": \"white\"}}, \"type\": \"table\"}]}, \"layout\": {\"annotationdefaults\": {\"arrowcolor\": \"#2a3f5f\", \"arrowhead\": 0, \"arrowwidth\": 1}, \"coloraxis\": {\"colorbar\": {\"outlinewidth\": 0, \"ticks\": \"\"}}, \"colorscale\": {\"diverging\": [[0, \"#8e0152\"], [0.1, \"#c51b7d\"], [0.2, \"#de77ae\"], [0.3, \"#f1b6da\"], [0.4, \"#fde0ef\"], [0.5, \"#f7f7f7\"], [0.6, \"#e6f5d0\"], [0.7, \"#b8e186\"], [0.8, \"#7fbc41\"], [0.9, \"#4d9221\"], [1, \"#276419\"]], \"sequential\": [[0.0, \"#0d0887\"], [0.1111111111111111, \"#46039f\"], [0.2222222222222222, \"#7201a8\"], [0.3333333333333333, \"#9c179e\"], [0.4444444444444444, \"#bd3786\"], [0.5555555555555556, \"#d8576b\"], [0.6666666666666666, \"#ed7953\"], [0.7777777777777778, \"#fb9f3a\"], [0.8888888888888888, \"#fdca26\"], [1.0, \"#f0f921\"]], \"sequentialminus\": [[0.0, \"#0d0887\"], [0.1111111111111111, \"#46039f\"], [0.2222222222222222, \"#7201a8\"], [0.3333333333333333, \"#9c179e\"], [0.4444444444444444, \"#bd3786\"], [0.5555555555555556, \"#d8576b\"], [0.6666666666666666, \"#ed7953\"], [0.7777777777777778, \"#fb9f3a\"], [0.8888888888888888, \"#fdca26\"], [1.0, \"#f0f921\"]]}, \"colorway\": [\"#636efa\", \"#EF553B\", \"#00cc96\", \"#ab63fa\", \"#FFA15A\", \"#19d3f3\", \"#FF6692\", \"#B6E880\", \"#FF97FF\", \"#FECB52\"], \"font\": {\"color\": \"#2a3f5f\"}, \"geo\": {\"bgcolor\": \"white\", \"lakecolor\": \"white\", \"landcolor\": \"#E5ECF6\", \"showlakes\": true, \"showland\": true, \"subunitcolor\": \"white\"}, \"hoverlabel\": {\"align\": \"left\"}, \"hovermode\": \"closest\", \"mapbox\": {\"style\": \"light\"}, \"paper_bgcolor\": \"white\", \"plot_bgcolor\": \"#E5ECF6\", \"polar\": {\"angularaxis\": {\"gridcolor\": \"white\", \"linecolor\": \"white\", \"ticks\": \"\"}, \"bgcolor\": \"#E5ECF6\", \"radialaxis\": {\"gridcolor\": \"white\", \"linecolor\": \"white\", \"ticks\": \"\"}}, \"scene\": {\"xaxis\": {\"backgroundcolor\": \"#E5ECF6\", \"gridcolor\": \"white\", \"gridwidth\": 2, \"linecolor\": \"white\", \"showbackground\": true, \"ticks\": \"\", \"zerolinecolor\": \"white\"}, \"yaxis\": {\"backgroundcolor\": \"#E5ECF6\", \"gridcolor\": \"white\", \"gridwidth\": 2, \"linecolor\": \"white\", \"showbackground\": true, \"ticks\": \"\", \"zerolinecolor\": \"white\"}, \"zaxis\": {\"backgroundcolor\": \"#E5ECF6\", \"gridcolor\": \"white\", \"gridwidth\": 2, \"linecolor\": \"white\", \"showbackground\": true, \"ticks\": \"\", \"zerolinecolor\": \"white\"}}, \"shapedefaults\": {\"line\": {\"color\": \"#2a3f5f\"}}, \"ternary\": {\"aaxis\": {\"gridcolor\": \"white\", \"linecolor\": \"white\", \"ticks\": \"\"}, \"baxis\": {\"gridcolor\": \"white\", \"linecolor\": \"white\", \"ticks\": \"\"}, \"bgcolor\": \"#E5ECF6\", \"caxis\": {\"gridcolor\": \"white\", \"linecolor\": \"white\", \"ticks\": \"\"}}, \"title\": {\"x\": 0.05}, \"xaxis\": {\"automargin\": true, \"gridcolor\": \"white\", \"linecolor\": \"white\", \"ticks\": \"\", \"title\": {\"standoff\": 15}, \"zerolinecolor\": \"white\", \"zerolinewidth\": 2}, \"yaxis\": {\"automargin\": true, \"gridcolor\": \"white\", \"linecolor\": \"white\", \"ticks\": \"\", \"title\": {\"standoff\": 15}, \"zerolinecolor\": \"white\", \"zerolinewidth\": 2}}}, \"title\": {\"text\": \"Sales of liquors with category and the volume of liquor sold\"}, \"xaxis\": {\"title\": {\"text\": \"category\"}}, \"yaxis\": {\"title\": {\"text\": \"Sale and the amount of liquor sold in litre\"}}},\n",
              "                        {\"responsive\": true}\n",
              "                    ).then(function(){\n",
              "                            \n",
              "var gd = document.getElementById('1b86464f-330f-4722-83f6-93e567f5bd74');\n",
              "var x = new MutationObserver(function (mutations, observer) {{\n",
              "        var display = window.getComputedStyle(gd).display;\n",
              "        if (!display || display === 'none') {{\n",
              "            console.log([gd, 'removed!']);\n",
              "            Plotly.purge(gd);\n",
              "            observer.disconnect();\n",
              "        }}\n",
              "}});\n",
              "\n",
              "// Listen for the removal of the full notebook cells\n",
              "var notebookContainer = gd.closest('#notebook-container');\n",
              "if (notebookContainer) {{\n",
              "    x.observe(notebookContainer, {childList: true});\n",
              "}}\n",
              "\n",
              "// Listen for the clearing of the current output cell\n",
              "var outputEl = gd.closest('.output');\n",
              "if (outputEl) {{\n",
              "    x.observe(outputEl, {childList: true});\n",
              "}}\n",
              "\n",
              "                        })\n",
              "                };\n",
              "                \n",
              "            </script>\n",
              "        </div>\n",
              "</body>\n",
              "</html>"
            ]
          },
          "metadata": {
            "tags": []
          }
        }
      ]
    },
    {
      "cell_type": "markdown",
      "metadata": {
        "id": "F2l-TESBzlV1"
      },
      "source": [
        "American Vodkas gas the highest sales $665640.27\twith 52512.73 litre"
      ]
    },
    {
      "cell_type": "markdown",
      "metadata": {
        "id": "BMJi0D4Hz2z-"
      },
      "source": [
        "**Volume sold in litres by vendor name**"
      ]
    },
    {
      "cell_type": "code",
      "metadata": {
        "id": "sjQGkwG_xjJZ",
        "outputId": "b1c6c851-9062-405a-b3a2-bac8d1c6ada2",
        "colab": {
          "base_uri": "https://localhost:8080/",
          "height": 542
        }
      },
      "source": [
        "df_plot = test_task_data.groupby(['vendor_name','pack','date'])['volume_sold_liters'].sum().groupby(\n",
        "            ['vendor_name','pack']).max().sort_values().groupby(\n",
        "            ['vendor_name']).sum().sort_values(ascending=False)\n",
        "top_count1 = pd.DataFrame(df_plot)\n",
        "\n",
        "fig_reg = px.bar(top_count1,x=top_count1.index, y='volume_sold_liters',color='volume_sold_liters')\n",
        "fig_reg.update_layout(\n",
        "    title=\"Volume sold by vendor name\",\n",
        "    xaxis_title=\" Vendor Name\",\n",
        "    yaxis_title=\"Liquor sold in Litres\",\n",
        "    )\n",
        "fig_reg.show()"
      ],
      "execution_count": 21,
      "outputs": [
        {
          "output_type": "display_data",
          "data": {
            "text/html": [
              "<html>\n",
              "<head><meta charset=\"utf-8\" /></head>\n",
              "<body>\n",
              "    <div>\n",
              "            <script src=\"https://cdnjs.cloudflare.com/ajax/libs/mathjax/2.7.5/MathJax.js?config=TeX-AMS-MML_SVG\"></script><script type=\"text/javascript\">if (window.MathJax) {MathJax.Hub.Config({SVG: {font: \"STIX-Web\"}});}</script>\n",
              "                <script type=\"text/javascript\">window.PlotlyConfig = {MathJaxConfig: 'local'};</script>\n",
              "        <script src=\"https://cdn.plot.ly/plotly-latest.min.js\"></script>    \n",
              "            <div id=\"358bbf60-c1e3-4809-aa27-5833346cd522\" class=\"plotly-graph-div\" style=\"height:525px; width:100%;\"></div>\n",
              "            <script type=\"text/javascript\">\n",
              "                \n",
              "                    window.PLOTLYENV=window.PLOTLYENV || {};\n",
              "                    \n",
              "                if (document.getElementById(\"358bbf60-c1e3-4809-aa27-5833346cd522\")) {\n",
              "                    Plotly.newPlot(\n",
              "                        '358bbf60-c1e3-4809-aa27-5833346cd522',\n",
              "                        [{\"alignmentgroup\": \"True\", \"hoverlabel\": {\"namelength\": 0}, \"hovertemplate\": \"x=%{x}<br>volume_sold_liters=%{marker.color}\", \"legendgroup\": \"\", \"marker\": {\"color\": [35671.21, 29188.109999999993, 26217.340000000007, 23432.8, 18613.25, 15195.0, 14940.350000000002, 14797.070000000002, 13706.45, 13043.600000000006, 8357.66, 7454.55, 6893.349999999999, 6760.039999999999, 6266.389999999999, 5889.0, 5221.049999999999, 4502.110000000001, 4397.6, 3963.45, 3820.6800000000003, 3278.0, 3108.75, 2921.9, 2448.0, 2112.0, 2105.5, 1981.75, 1733.9899999999996, 1629.52, 1512.0, 1500.05, 1422.5100000000002, 1377.9, 1365.0, 1318.5, 1175.0900000000001, 1096.87, 1020.2300000000002, 832.6, 738.6500000000001, 672.0, 594.0699999999999, 589.5, 464.45, 450.0, 432.5, 408.35, 262.5, 259.5, 252.0, 237.5, 228.0, 220.5, 217.5, 192.75, 177.75, 174.0, 166.5, 157.5, 152.15, 145.5, 135.0, 135.0, 130.5, 129.75, 129.75, 126.72, 124.5, 120.0, 115.5, 111.0, 108.75, 108.75, 105.0, 102.0, 99.75, 96.0, 96.0, 94.5, 90.0, 83.25, 79.5, 78.75, 77.25, 74.25, 72.05, 69.0, 53.25, 48.75, 47.25, 46.86, 45.0, 45.0, 45.0, 41.25, 40.5, 40.5, 40.5, 39.75, 39.0, 36.0, 36.0, 33.25, 32.5, 32.25, 31.5, 31.5, 29.25, 27.0, 27.0, 23.4, 23.25, 22.5, 22.5, 22.5, 21.0, 21.0, 18.0, 18.0, 18.0, 18.0, 18.0, 18.0, 17.25, 15.739999999999998, 15.0, 14.25, 13.5, 13.5, 13.5, 13.5, 13.5, 13.5, 13.5, 13.5, 13.5, 12.0, 12.0, 12.0, 10.5, 9.0, 9.0, 9.0, 9.0, 9.0, 9.0, 9.0, 9.0, 9.0, 9.0, 9.0, 9.0, 9.0, 9.0, 9.0, 9.0, 9.0, 9.0, 9.0, 9.0, 9.0, 9.0, 9.0, 9.0, 9.0, 8.25, 6.0, 6.0, 4.5, 4.5, 4.5, 4.5, 4.5, 4.5, 4.5, 4.5, 4.5, 4.5, 4.5, 4.5, 4.5, 4.5, 4.5, 4.5, 4.5, 4.5, 4.5, 0.75], \"coloraxis\": \"coloraxis\"}, \"name\": \"\", \"offsetgroup\": \"\", \"orientation\": \"v\", \"showlegend\": false, \"textposition\": \"auto\", \"type\": \"bar\", \"x\": [\"Heaven Hill Brands\", \"FIFTH GENERATION INC\", \"DIAGEO AMERICAS\", \"SAZERAC COMPANY  INC\", \"SAZERAC NORTH AMERICA\", \"Levecke Corporation\", \"Jim Beam Brands\", \"PROXIMO\", \"LUXCO INC\", \"PERNOD RICARD USA\", \"CONSTELLATION BRANDS INC\", \"JDSO INC / Red Boot Distillery\", \"BACARDI USA INC\", \"REMY COINTREAU USA INC\", \"Brown Forman Corp.\", \"MISA Imports Inc\", \"Phillips Beverage\", \"E & J Gallo Winery\", \"Laird & Company\", \"CEDAR RIDGE VINEYARDS LL\", \"McCormick Distilling Co.\", \"MOET HENNESSY USA\", \"Red Boot Distillery\", \"DEHNER DISTILLERY\", \"Mach Flynt Inc.\", \"MPL Brands NV Inc\", \"JEM Beverage Company\", \"Gemini Spirits\", \"Prestige Wine & Spirits Group\", \"Infinium Spirits\", \"Distillers Way, LLC\", \"MISSISSIPPI RIVER DISTIL\", \"Mast-Jagermeister US, Inc\", \"Foundry Distilling Company, LLC\", \"MINHAS MICRO DISTILLERY\", \"S&B Farms Distillery\", \"Campari America\", \"William Grant & Sons Inc\", \"Mhw LTD\", \"STOLI GROUP\", \"Patron Spirits Company\", \"FOUR ROSES DISTILLERY\", \"Park Street Imports\", \"Swell Liquor LLC\", \"DUNKEL CORPORATION / Iowa Distilling\", \"Templeton Distilling LLC\", \"WESTERN SPIRITS BEVERAGE\", \"OLE SMOKY DISTILLERY LLC\", \"Edrington Group USA LLC\", \"DV Spirits LLC\", \"Cats Eye Distillery\", \"DAVOS BRANDS LLC\", \"John Ernest Distillery, Inc.\", \"BAD BEAR ENTERPRISES LLC\", \"DISARONNO INTERNATIONAL\", \"Charles Jacquin Et Cie\", \"Old Elk Distilleries LLC\", \"Green Frog Distillery, LLC\", \"JINRO AMERICA INC\", \"Lonely Oak Distillery\", \"GoAmericaGo Beverages LLC / WhistlePig\", \"Shaw-Ross International\", \"S&B Farmstead Distillery\", \"W J Deutsch & Sons LTD\", \"Driftless Glen Distillery\", \"CH Distillery\", \"Georgetown Trading Co. LLC\", \"AMERICAN SPIRITS EXCHANGE\", \"3 BADGE CORPORATION\", \"PIEDMONT DISTILLERS INC\", \"Midwest Liquor Company\", \"Worldwide Libations, LLC\", \"RUSSIAN STANDARD VODKA\", \"HOTALING & CO\", \"STOLLER IMPORTS INC / MARSALLE COMPANY\", \"CHATHAM IMPORTS INC\", \"TY KU LLC\", \"Fredrick Wildman & Son\", \"United Spirits Inc\", \"Niche Import Co\", \"45TH PARALLEL SPIRITS\", \"SERRALLES USA\", \"RS Lipman Company LLC\", \"Castle Brands\", \"PROST BEVERAGE COMPANY\", \"American Heritage Distillers, LLC\", \"Sugarlands Distilling Company LLC\", \"Sovereign Brands, LLC\", \"Gray Duck Spirits LLC\", \"Bluff Creek Distillery\", \"Paterno Imports LTD / Terlato Wines International\", \"Mango Bottling\", \"CARRIAGE HOUSE IMPORTS\", \"VINO COM LLC\", \"QUADRO GROUP LLC\", \"BRECKENRIDGE DISTILLERY\", \"Premier Distributors LLC\", \"BROADBENT VENTURES LLC\", \"Heritage Distilling Company\", \"Levecke Corporation JJB\", \"CNS Imports; Four Seasons Trading; CNS Wine & Spirits\", \"B. T. O. Distillers LLC\", \"Vin Divino Ltd\", \"AMERICAN VINTAGE BEVERAGE\", \"Grand Prix Beverage LLC\", \"GoAmericaGo Beverages LLC\", \"Demerara Distillers (USA) Inc.\", \"Middle West Spirits\", \"Oz Spirits LLC\", \"PALM BAY INTERNATIONAL\", \"Best Case Wines LLC\", \"COOPER SPIRITS INTERNATIONAL\", \"Vision Wine & Spirit LLC\", \"Fetzer Vineyards\", \"IMPEX BEVERAGE INC\", \"Inter Wines Group\", \"Jacob Rieger & Company LLC\", \"KOLOA RUM COMPANY\", \"BLACK ROCK SPIRITS\", \"Caribbean Spirits Inc\", \"Caledonia Spirits\", \"SUTTER HOME WINERY INC / Trinchero Family Estates\", \"Hawaii Sea Spirits LLC\", \"MADIKWE USA INC\", \"Hood River Distillers\", \"Rocky Top Investments / Rock River Distillation\", \"Famous Brands\", \"SURVILLE ENTERPRISES CORP\", \"Latasi Group\", \"Des Moines Imports\", \"Wilderness Trail Distillery\", \"Savage & Cooke / Santa Croce LLC\", \"Drum Circle Distilling, LLC\", \"ST GEORGE SPIRITS INC\", \"FRANK LIN DISTILLERS PRO\", \"NORTH SHORE DISTILLERY\", \"Rumcoqui and Co\", \"Restless Spirits Distilling Company, LLC\", \"BMC Imports\", \"HAAS BROTHERS\", \"3-Oaks Distillery, LLC\", \"SUTTER HOME WINERY INC\", \"Copper & Kings American Brandy Company\", \"H A P LLC\", \"HILLROCK ESTATE DISTILLERY\", \"CVI Brands\", \"Old Sugar Distillery\", \"HPSepicurean LLC / Preiss Imports\", \"DC Beverage LLC\", \"VBJ Beverages LLC\", \"New Holland Brewing Company, LLC\", \"KOVAL DISTILLERY\", \"Keepers Quest Inc\", \"Sagamore Whiskey, LLC\", \"Koenig Distillery Inc\", \"Ransom Spirits LLC\", \"Vintage Wine Estates, INC\", \"Dreyfus Ashby\", \"Prichards Distillery Inc\", \"Doc Brown Enterprises\", \"World Trade Liquor Imports LLC\", \"Spirit Imports Inc\", \"Altamar Brands LLC\", \"DUGGANS DISTILLERS\", \"Global Beverage Team, LLC\", \"Jackson Hole Still Works\", \"USA Wine West, LLC\", \"Suro International Importers, Inc\", \"Purple Valley Imports / Glass Revolution Imports\", \"Bom Dia Imports LLC\", \"Mountain Laurel Spirits LLC\", \"Vikre Distillery\", \"Gargoyle Enterprises / Laws Whiskey House\", \"Norden Spirits LLC\", \"Opici Import Company\", \"Oregon Brewing Co\", \"MODERN SPIRIT LLC\", \"Phusion Projects LLC\", \"Hemingway Rum Company LLC\", \"Drink Dogg Alcohol Imports\", \"Shand Import LLC\", \"Dorado, Pizzorni & Sons, LLC\", \"Domaine Select\", \"Splinter Group Napa, LLC\", \"Tenn South Distillery / Big Machine Distillery\", \"Coup de Foudre LLC\", \"Traverse City Whiskey Co\", \"Kings Country Distillery\", \"Caribbean Distillers, LLC\"], \"xaxis\": \"x\", \"y\": [35671.21, 29188.109999999993, 26217.340000000007, 23432.8, 18613.25, 15195.0, 14940.350000000002, 14797.070000000002, 13706.45, 13043.600000000006, 8357.66, 7454.55, 6893.349999999999, 6760.039999999999, 6266.389999999999, 5889.0, 5221.049999999999, 4502.110000000001, 4397.6, 3963.45, 3820.6800000000003, 3278.0, 3108.75, 2921.9, 2448.0, 2112.0, 2105.5, 1981.75, 1733.9899999999996, 1629.52, 1512.0, 1500.05, 1422.5100000000002, 1377.9, 1365.0, 1318.5, 1175.0900000000001, 1096.87, 1020.2300000000002, 832.6, 738.6500000000001, 672.0, 594.0699999999999, 589.5, 464.45, 450.0, 432.5, 408.35, 262.5, 259.5, 252.0, 237.5, 228.0, 220.5, 217.5, 192.75, 177.75, 174.0, 166.5, 157.5, 152.15, 145.5, 135.0, 135.0, 130.5, 129.75, 129.75, 126.72, 124.5, 120.0, 115.5, 111.0, 108.75, 108.75, 105.0, 102.0, 99.75, 96.0, 96.0, 94.5, 90.0, 83.25, 79.5, 78.75, 77.25, 74.25, 72.05, 69.0, 53.25, 48.75, 47.25, 46.86, 45.0, 45.0, 45.0, 41.25, 40.5, 40.5, 40.5, 39.75, 39.0, 36.0, 36.0, 33.25, 32.5, 32.25, 31.5, 31.5, 29.25, 27.0, 27.0, 23.4, 23.25, 22.5, 22.5, 22.5, 21.0, 21.0, 18.0, 18.0, 18.0, 18.0, 18.0, 18.0, 17.25, 15.739999999999998, 15.0, 14.25, 13.5, 13.5, 13.5, 13.5, 13.5, 13.5, 13.5, 13.5, 13.5, 12.0, 12.0, 12.0, 10.5, 9.0, 9.0, 9.0, 9.0, 9.0, 9.0, 9.0, 9.0, 9.0, 9.0, 9.0, 9.0, 9.0, 9.0, 9.0, 9.0, 9.0, 9.0, 9.0, 9.0, 9.0, 9.0, 9.0, 9.0, 9.0, 8.25, 6.0, 6.0, 4.5, 4.5, 4.5, 4.5, 4.5, 4.5, 4.5, 4.5, 4.5, 4.5, 4.5, 4.5, 4.5, 4.5, 4.5, 4.5, 4.5, 4.5, 4.5, 0.75], \"yaxis\": \"y\"}],\n",
              "                        {\"barmode\": \"relative\", \"coloraxis\": {\"colorbar\": {\"title\": {\"text\": \"volume_sold_liters\"}}, \"colorscale\": [[0.0, \"#0d0887\"], [0.1111111111111111, \"#46039f\"], [0.2222222222222222, \"#7201a8\"], [0.3333333333333333, \"#9c179e\"], [0.4444444444444444, \"#bd3786\"], [0.5555555555555556, \"#d8576b\"], [0.6666666666666666, \"#ed7953\"], [0.7777777777777778, \"#fb9f3a\"], [0.8888888888888888, \"#fdca26\"], [1.0, \"#f0f921\"]]}, \"legend\": {\"tracegroupgap\": 0}, \"margin\": {\"t\": 60}, \"template\": {\"data\": {\"bar\": [{\"error_x\": {\"color\": \"#2a3f5f\"}, \"error_y\": {\"color\": \"#2a3f5f\"}, \"marker\": {\"line\": {\"color\": \"#E5ECF6\", \"width\": 0.5}}, \"type\": \"bar\"}], \"barpolar\": [{\"marker\": {\"line\": {\"color\": \"#E5ECF6\", \"width\": 0.5}}, \"type\": \"barpolar\"}], \"carpet\": [{\"aaxis\": {\"endlinecolor\": \"#2a3f5f\", \"gridcolor\": \"white\", \"linecolor\": \"white\", \"minorgridcolor\": \"white\", \"startlinecolor\": \"#2a3f5f\"}, \"baxis\": {\"endlinecolor\": \"#2a3f5f\", \"gridcolor\": \"white\", \"linecolor\": \"white\", \"minorgridcolor\": \"white\", \"startlinecolor\": \"#2a3f5f\"}, \"type\": \"carpet\"}], \"choropleth\": [{\"colorbar\": {\"outlinewidth\": 0, \"ticks\": \"\"}, \"type\": \"choropleth\"}], \"contour\": [{\"colorbar\": {\"outlinewidth\": 0, \"ticks\": \"\"}, \"colorscale\": [[0.0, \"#0d0887\"], [0.1111111111111111, \"#46039f\"], [0.2222222222222222, \"#7201a8\"], [0.3333333333333333, \"#9c179e\"], [0.4444444444444444, \"#bd3786\"], [0.5555555555555556, \"#d8576b\"], [0.6666666666666666, \"#ed7953\"], [0.7777777777777778, \"#fb9f3a\"], [0.8888888888888888, \"#fdca26\"], [1.0, \"#f0f921\"]], \"type\": \"contour\"}], \"contourcarpet\": [{\"colorbar\": {\"outlinewidth\": 0, \"ticks\": \"\"}, \"type\": \"contourcarpet\"}], \"heatmap\": [{\"colorbar\": {\"outlinewidth\": 0, \"ticks\": \"\"}, \"colorscale\": [[0.0, \"#0d0887\"], [0.1111111111111111, \"#46039f\"], [0.2222222222222222, \"#7201a8\"], [0.3333333333333333, \"#9c179e\"], [0.4444444444444444, \"#bd3786\"], [0.5555555555555556, \"#d8576b\"], [0.6666666666666666, \"#ed7953\"], [0.7777777777777778, \"#fb9f3a\"], [0.8888888888888888, \"#fdca26\"], [1.0, \"#f0f921\"]], \"type\": \"heatmap\"}], \"heatmapgl\": [{\"colorbar\": {\"outlinewidth\": 0, \"ticks\": \"\"}, \"colorscale\": [[0.0, \"#0d0887\"], [0.1111111111111111, \"#46039f\"], [0.2222222222222222, \"#7201a8\"], [0.3333333333333333, \"#9c179e\"], [0.4444444444444444, \"#bd3786\"], [0.5555555555555556, \"#d8576b\"], [0.6666666666666666, \"#ed7953\"], [0.7777777777777778, \"#fb9f3a\"], [0.8888888888888888, \"#fdca26\"], [1.0, \"#f0f921\"]], \"type\": \"heatmapgl\"}], \"histogram\": [{\"marker\": {\"colorbar\": {\"outlinewidth\": 0, \"ticks\": \"\"}}, \"type\": \"histogram\"}], \"histogram2d\": [{\"colorbar\": {\"outlinewidth\": 0, \"ticks\": \"\"}, \"colorscale\": [[0.0, \"#0d0887\"], [0.1111111111111111, \"#46039f\"], [0.2222222222222222, \"#7201a8\"], [0.3333333333333333, \"#9c179e\"], [0.4444444444444444, \"#bd3786\"], [0.5555555555555556, \"#d8576b\"], [0.6666666666666666, \"#ed7953\"], [0.7777777777777778, \"#fb9f3a\"], [0.8888888888888888, \"#fdca26\"], [1.0, \"#f0f921\"]], \"type\": \"histogram2d\"}], \"histogram2dcontour\": [{\"colorbar\": {\"outlinewidth\": 0, \"ticks\": \"\"}, \"colorscale\": [[0.0, \"#0d0887\"], [0.1111111111111111, \"#46039f\"], [0.2222222222222222, \"#7201a8\"], [0.3333333333333333, \"#9c179e\"], [0.4444444444444444, \"#bd3786\"], [0.5555555555555556, \"#d8576b\"], [0.6666666666666666, \"#ed7953\"], [0.7777777777777778, \"#fb9f3a\"], [0.8888888888888888, \"#fdca26\"], [1.0, \"#f0f921\"]], \"type\": \"histogram2dcontour\"}], \"mesh3d\": [{\"colorbar\": {\"outlinewidth\": 0, \"ticks\": \"\"}, \"type\": \"mesh3d\"}], \"parcoords\": [{\"line\": {\"colorbar\": {\"outlinewidth\": 0, \"ticks\": \"\"}}, \"type\": \"parcoords\"}], \"pie\": [{\"automargin\": true, \"type\": \"pie\"}], \"scatter\": [{\"marker\": {\"colorbar\": {\"outlinewidth\": 0, \"ticks\": \"\"}}, \"type\": \"scatter\"}], \"scatter3d\": [{\"line\": {\"colorbar\": {\"outlinewidth\": 0, \"ticks\": \"\"}}, \"marker\": {\"colorbar\": {\"outlinewidth\": 0, \"ticks\": \"\"}}, \"type\": \"scatter3d\"}], \"scattercarpet\": [{\"marker\": {\"colorbar\": {\"outlinewidth\": 0, \"ticks\": \"\"}}, \"type\": \"scattercarpet\"}], \"scattergeo\": [{\"marker\": {\"colorbar\": {\"outlinewidth\": 0, \"ticks\": \"\"}}, \"type\": \"scattergeo\"}], \"scattergl\": [{\"marker\": {\"colorbar\": {\"outlinewidth\": 0, \"ticks\": \"\"}}, \"type\": \"scattergl\"}], \"scattermapbox\": [{\"marker\": {\"colorbar\": {\"outlinewidth\": 0, \"ticks\": \"\"}}, \"type\": \"scattermapbox\"}], \"scatterpolar\": [{\"marker\": {\"colorbar\": {\"outlinewidth\": 0, \"ticks\": \"\"}}, \"type\": \"scatterpolar\"}], \"scatterpolargl\": [{\"marker\": {\"colorbar\": {\"outlinewidth\": 0, \"ticks\": \"\"}}, \"type\": \"scatterpolargl\"}], \"scatterternary\": [{\"marker\": {\"colorbar\": {\"outlinewidth\": 0, \"ticks\": \"\"}}, \"type\": \"scatterternary\"}], \"surface\": [{\"colorbar\": {\"outlinewidth\": 0, \"ticks\": \"\"}, \"colorscale\": [[0.0, \"#0d0887\"], [0.1111111111111111, \"#46039f\"], [0.2222222222222222, \"#7201a8\"], [0.3333333333333333, \"#9c179e\"], [0.4444444444444444, \"#bd3786\"], [0.5555555555555556, \"#d8576b\"], [0.6666666666666666, \"#ed7953\"], [0.7777777777777778, \"#fb9f3a\"], [0.8888888888888888, \"#fdca26\"], [1.0, \"#f0f921\"]], \"type\": \"surface\"}], \"table\": [{\"cells\": {\"fill\": {\"color\": \"#EBF0F8\"}, \"line\": {\"color\": \"white\"}}, \"header\": {\"fill\": {\"color\": \"#C8D4E3\"}, \"line\": {\"color\": \"white\"}}, \"type\": \"table\"}]}, \"layout\": {\"annotationdefaults\": {\"arrowcolor\": \"#2a3f5f\", \"arrowhead\": 0, \"arrowwidth\": 1}, \"coloraxis\": {\"colorbar\": {\"outlinewidth\": 0, \"ticks\": \"\"}}, \"colorscale\": {\"diverging\": [[0, \"#8e0152\"], [0.1, \"#c51b7d\"], [0.2, \"#de77ae\"], [0.3, \"#f1b6da\"], [0.4, \"#fde0ef\"], [0.5, \"#f7f7f7\"], [0.6, \"#e6f5d0\"], [0.7, \"#b8e186\"], [0.8, \"#7fbc41\"], [0.9, \"#4d9221\"], [1, \"#276419\"]], \"sequential\": [[0.0, \"#0d0887\"], [0.1111111111111111, \"#46039f\"], [0.2222222222222222, \"#7201a8\"], [0.3333333333333333, \"#9c179e\"], [0.4444444444444444, \"#bd3786\"], [0.5555555555555556, \"#d8576b\"], [0.6666666666666666, \"#ed7953\"], [0.7777777777777778, \"#fb9f3a\"], [0.8888888888888888, \"#fdca26\"], [1.0, \"#f0f921\"]], \"sequentialminus\": [[0.0, \"#0d0887\"], [0.1111111111111111, \"#46039f\"], [0.2222222222222222, \"#7201a8\"], [0.3333333333333333, \"#9c179e\"], [0.4444444444444444, \"#bd3786\"], [0.5555555555555556, \"#d8576b\"], [0.6666666666666666, \"#ed7953\"], [0.7777777777777778, \"#fb9f3a\"], [0.8888888888888888, \"#fdca26\"], [1.0, \"#f0f921\"]]}, \"colorway\": [\"#636efa\", \"#EF553B\", \"#00cc96\", \"#ab63fa\", \"#FFA15A\", \"#19d3f3\", \"#FF6692\", \"#B6E880\", \"#FF97FF\", \"#FECB52\"], \"font\": {\"color\": \"#2a3f5f\"}, \"geo\": {\"bgcolor\": \"white\", \"lakecolor\": \"white\", \"landcolor\": \"#E5ECF6\", \"showlakes\": true, \"showland\": true, \"subunitcolor\": \"white\"}, \"hoverlabel\": {\"align\": \"left\"}, \"hovermode\": \"closest\", \"mapbox\": {\"style\": \"light\"}, \"paper_bgcolor\": \"white\", \"plot_bgcolor\": \"#E5ECF6\", \"polar\": {\"angularaxis\": {\"gridcolor\": \"white\", \"linecolor\": \"white\", \"ticks\": \"\"}, \"bgcolor\": \"#E5ECF6\", \"radialaxis\": {\"gridcolor\": \"white\", \"linecolor\": \"white\", \"ticks\": \"\"}}, \"scene\": {\"xaxis\": {\"backgroundcolor\": \"#E5ECF6\", \"gridcolor\": \"white\", \"gridwidth\": 2, \"linecolor\": \"white\", \"showbackground\": true, \"ticks\": \"\", \"zerolinecolor\": \"white\"}, \"yaxis\": {\"backgroundcolor\": \"#E5ECF6\", \"gridcolor\": \"white\", \"gridwidth\": 2, \"linecolor\": \"white\", \"showbackground\": true, \"ticks\": \"\", \"zerolinecolor\": \"white\"}, \"zaxis\": {\"backgroundcolor\": \"#E5ECF6\", \"gridcolor\": \"white\", \"gridwidth\": 2, \"linecolor\": \"white\", \"showbackground\": true, \"ticks\": \"\", \"zerolinecolor\": \"white\"}}, \"shapedefaults\": {\"line\": {\"color\": \"#2a3f5f\"}}, \"ternary\": {\"aaxis\": {\"gridcolor\": \"white\", \"linecolor\": \"white\", \"ticks\": \"\"}, \"baxis\": {\"gridcolor\": \"white\", \"linecolor\": \"white\", \"ticks\": \"\"}, \"bgcolor\": \"#E5ECF6\", \"caxis\": {\"gridcolor\": \"white\", \"linecolor\": \"white\", \"ticks\": \"\"}}, \"title\": {\"x\": 0.05}, \"xaxis\": {\"automargin\": true, \"gridcolor\": \"white\", \"linecolor\": \"white\", \"ticks\": \"\", \"title\": {\"standoff\": 15}, \"zerolinecolor\": \"white\", \"zerolinewidth\": 2}, \"yaxis\": {\"automargin\": true, \"gridcolor\": \"white\", \"linecolor\": \"white\", \"ticks\": \"\", \"title\": {\"standoff\": 15}, \"zerolinecolor\": \"white\", \"zerolinewidth\": 2}}}, \"title\": {\"text\": \"Volume sold by vendor name\"}, \"xaxis\": {\"anchor\": \"y\", \"domain\": [0.0, 1.0], \"title\": {\"text\": \" Vendor Name\"}}, \"yaxis\": {\"anchor\": \"x\", \"domain\": [0.0, 1.0], \"title\": {\"text\": \"Liquor sold in Litres\"}}},\n",
              "                        {\"responsive\": true}\n",
              "                    ).then(function(){\n",
              "                            \n",
              "var gd = document.getElementById('358bbf60-c1e3-4809-aa27-5833346cd522');\n",
              "var x = new MutationObserver(function (mutations, observer) {{\n",
              "        var display = window.getComputedStyle(gd).display;\n",
              "        if (!display || display === 'none') {{\n",
              "            console.log([gd, 'removed!']);\n",
              "            Plotly.purge(gd);\n",
              "            observer.disconnect();\n",
              "        }}\n",
              "}});\n",
              "\n",
              "// Listen for the removal of the full notebook cells\n",
              "var notebookContainer = gd.closest('#notebook-container');\n",
              "if (notebookContainer) {{\n",
              "    x.observe(notebookContainer, {childList: true});\n",
              "}}\n",
              "\n",
              "// Listen for the clearing of the current output cell\n",
              "var outputEl = gd.closest('.output');\n",
              "if (outputEl) {{\n",
              "    x.observe(outputEl, {childList: true});\n",
              "}}\n",
              "\n",
              "                        })\n",
              "                };\n",
              "                \n",
              "            </script>\n",
              "        </div>\n",
              "</body>\n",
              "</html>"
            ]
          },
          "metadata": {
            "tags": []
          }
        }
      ]
    }
  ]
}